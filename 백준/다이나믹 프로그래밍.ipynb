{
  "nbformat": 4,
  "nbformat_minor": 0,
  "metadata": {
    "colab": {
      "name": "다이나믹 프로그래밍.ipynb",
      "provenance": [],
      "collapsed_sections": [],
      "authorship_tag": "ABX9TyNLc7JA/P6ryRHOUOl5LPll",
      "include_colab_link": true
    },
    "kernelspec": {
      "name": "python3",
      "display_name": "Python 3"
    },
    "language_info": {
      "name": "python"
    }
  },
  "cells": [
    {
      "cell_type": "markdown",
      "metadata": {
        "id": "view-in-github",
        "colab_type": "text"
      },
      "source": [
        "<a href=\"https://colab.research.google.com/github/TaeGongKim/Coding-Test/blob/main/%EB%B0%B1%EC%A4%80/%EB%8B%A4%EC%9D%B4%EB%82%98%EB%AF%B9%20%ED%94%84%EB%A1%9C%EA%B7%B8%EB%9E%98%EB%B0%8D.ipynb\" target=\"_parent\"><img src=\"https://colab.research.google.com/assets/colab-badge.svg\" alt=\"Open In Colab\"/></a>"
      ]
    },
    {
      "cell_type": "markdown",
      "source": [
        "2839번 : 설탕 배달  \n",
        "출처 : https://www.acmicpc.net/problem/2839"
      ],
      "metadata": {
        "id": "4lbuJq_Y-kwL"
      }
    },
    {
      "cell_type": "code",
      "source": [
        "n = int(input())\n",
        "\n",
        "# 설탕 주머니를 얼마나 가져가는지 저장하는 배열\n",
        "number = [0] * 5001\n",
        "number[3] = 1\n",
        "number[5] = 1\n",
        "\n",
        "for i in range(3, n + 1):\n",
        "    dn1, dn2 = i - 3, i - 5\n",
        "\n",
        "    # 범위를 넘어선 경우\n",
        "    if dn1 < 0 or dn2 < 0:\n",
        "        continue\n",
        "    \n",
        "    # 한 단계 이전의 무게의 설탕 무게를 비교하여 현재 설탕에서의 가져갈 봉지 수를 결정한다.\n",
        "    # n-3 kg 설탕과 n-5 kg 설탕을 가져갈 때 1개 이상의 봉지를 가져간다면, 두 무게의 봉지 수를 비교해서 작은 봉지 + 1 만큼 가져가면 된다.\n",
        "    if number[dn1] > 0 and number[dn2] > 0:\n",
        "        number[i] = min(number[dn1], number[dn2]) + 1\n",
        "    # n-3 kg 설탕만 봉지에 가져갈 수 있다면 n-3 kg 봉지 + 1만큼 가져간다.\n",
        "    elif number[dn1] > 0 and number[dn2] == 0:\n",
        "        number[i] = number[dn1] + 1\n",
        "    # n-5 kg 설탕만 봉지에 가져갈 수 있다면 n-5 kg 봉지 + 1만큼 가져간다.        \n",
        "    elif number[dn1] == 0 and number[dn2] > 0:\n",
        "        number[i] = number[dn2] + 1\n",
        "        \n",
        "if number[n] == 0:\n",
        "    print(-1)\n",
        "else:\n",
        "    print(number[n])"
      ],
      "metadata": {
        "colab": {
          "base_uri": "https://localhost:8080/"
        },
        "id": "nz_IBDWQ-wql",
        "outputId": "bd9afc75-9720-4271-e027-2b6cd62268d6"
      },
      "execution_count": null,
      "outputs": [
        {
          "output_type": "stream",
          "name": "stdout",
          "text": [
            "11\n",
            "3\n"
          ]
        }
      ]
    },
    {
      "cell_type": "markdown",
      "source": [
        "1463번 : 1로 만들기  \n",
        "출처 : https://www.acmicpc.net/problem/1463"
      ],
      "metadata": {
        "id": "GuGiYwZc_RXo"
      }
    },
    {
      "cell_type": "code",
      "source": [
        "n = int(input())\n",
        "\n",
        "# 1로 만들때 최소한의 연산 수를 저장하는 배열\n",
        "array = [0] * 1000001\n",
        "array[2] = 1\n",
        "array[3] = 1\n",
        "\n",
        "for i in range(4, n + 1):\n",
        "    # 세 연산을 한 후의 값들 중 가장 연산 횟수가 작은 횟수에 + 1을 한다.\n",
        "    # 1을 뺀 경우 항상 존재하여 후보에 넣는다.\n",
        "    candidate = [array[i-1]]\n",
        "    # 2로 나눌 수 있는 경우 후보에 넣는다.\n",
        "    if i % 2 == 0:\n",
        "        candidate.append(array[i // 2])\n",
        "    # 3으로 나눌 수 있는 경우 후보에 넣는다.\n",
        "    if i % 3 == 0:\n",
        "        candidate.append(array[i // 3])\n",
        "    \n",
        "    # 후보들 중 가장 작은 연산 회수 + 1\n",
        "    array[i] = min(candidate) + 1\n",
        "\n",
        "print(array[n])"
      ],
      "metadata": {
        "colab": {
          "base_uri": "https://localhost:8080/"
        },
        "id": "6B0PK_DWCTjc",
        "outputId": "ffebfc2b-71fa-4154-d5e1-a52052c2910a"
      },
      "execution_count": null,
      "outputs": [
        {
          "output_type": "stream",
          "name": "stdout",
          "text": [
            "10\n",
            "3\n"
          ]
        }
      ]
    },
    {
      "cell_type": "markdown",
      "source": [
        "1003번 : 피보나치 함수  \n",
        "출처 : https://www.acmicpc.net/problem/1003"
      ],
      "metadata": {
        "id": "pJthsbMNFWXb"
      }
    },
    {
      "cell_type": "code",
      "source": [
        "T = int(input())\n",
        "\n",
        "# 각각 n번째 피보나치 수에서 0, 1 의 반복 개수를 저장하는 배열\n",
        "arr0 = [0] * 41\n",
        "arr1 = [0] * 41\n",
        "# pibo(0) = 1, 0\n",
        "arr0[0] = 1\n",
        "# pibo(1) = 0, 1\n",
        "arr1[1] = 1\n",
        "# pibo(2) = 1, 1\n",
        "arr0[2] = 1\n",
        "arr1[2] = 1\n",
        "\n",
        "for _ in range(T):\n",
        "    n = int(input())\n",
        "    for i in range(3, n + 1):\n",
        "        # n번째 피보나치 수에서의 0과 1의 개수는 n - 1, n - 2 번째 피보나치 수에서의 0과 1의 개수의 합으로 계산된다.\n",
        "        arr0[i] = arr0[i-1] + arr0[i-2]\n",
        "        arr1[i] = arr1[i-1] + arr1[i-2]\n",
        "    print(f\"{arr0[n]} {arr1[n]}\")"
      ],
      "metadata": {
        "colab": {
          "base_uri": "https://localhost:8080/"
        },
        "id": "S1Eaa9kIHZyo",
        "outputId": "99e155b8-de5b-4772-de9e-d1a8cb016188"
      },
      "execution_count": null,
      "outputs": [
        {
          "output_type": "stream",
          "name": "stdout",
          "text": [
            "4\n",
            "3\n",
            "1 2\n",
            "5\n",
            "3 5\n",
            "10\n",
            "34 55\n",
            "2\n",
            "1 1\n"
          ]
        }
      ]
    },
    {
      "cell_type": "markdown",
      "source": [
        "9095번 : 1, 2, 3 더하기  \n",
        "출처 : https://www.acmicpc.net/problem/9095"
      ],
      "metadata": {
        "id": "AEfFLOnQKYn0"
      }
    },
    {
      "cell_type": "code",
      "source": [
        "T = int(input())\n",
        "array = [0] * 12\n",
        "array[1] = 1\n",
        "array[2] = 2\n",
        "array[3] = 4\n",
        "\n",
        "# n = 1\n",
        "# (1)\n",
        "# n = 2\n",
        "# (1, 1), (2)\n",
        "# n = 3\n",
        "# (1, 1, 1), (2, 1), (1, 2), (3)\n",
        "# n = 4\n",
        "# (1, 1, 1, 1), (2, 1, 1), (1, 2, 1), (3, 1), (1, 1, 2), (2, 2), (1, 3)\n",
        "# n이 4일 때를 보면, 3일때의 경우에 +1을 한 것들이 나오고, 2일때 +2 한 것들이 나오고, 1일때 +3 한 것들이 나온다.\n",
        "# 1, 2, 3으로 이루어져야 하므로 n = n-1 + n-2 + n-3 이라는 점화식이 나온다.\n",
        "\n",
        "for _ in range(T):\n",
        "    n = int(input())\n",
        "    \n",
        "    for i in range(4, n + 1):\n",
        "        array[i] = array[i - 1] + array[i - 2] + array[i - 3]\n",
        "        \n",
        "    print(array[n])"
      ],
      "metadata": {
        "colab": {
          "base_uri": "https://localhost:8080/"
        },
        "id": "r93IXg4FKljW",
        "outputId": "781e2546-ecfc-4278-d996-c7f32d731b8b"
      },
      "execution_count": null,
      "outputs": [
        {
          "output_type": "stream",
          "name": "stdout",
          "text": [
            "3\n",
            "4\n",
            "7\n",
            "5\n",
            "13\n",
            "6\n",
            "24\n"
          ]
        }
      ]
    },
    {
      "cell_type": "markdown",
      "source": [
        "10870번 : 피보나치 수 5  \n",
        "출처 : https://www.acmicpc.net/problem/10870"
      ],
      "metadata": {
        "id": "t3vOur-mQDUJ"
      }
    },
    {
      "cell_type": "code",
      "source": [
        "n = int(input())\n",
        "array = [0] * 21\n",
        "array[1] = 1\n",
        "\n",
        "# 단순 피보나치 수 계산하는 점화식을 이용하여 반복문으로 구현\n",
        "# F(n) = F(n - 1) + F(n - 2)\n",
        "for i in range(2, n + 1):\n",
        "    array[i] = array[i - 1] + array[i - 2]\n",
        "    \n",
        "print(array[n])"
      ],
      "metadata": {
        "colab": {
          "base_uri": "https://localhost:8080/"
        },
        "id": "zpTrbKa837Cu",
        "outputId": "7d2e90ad-1828-4707-b37d-597ed1c6d9be"
      },
      "execution_count": null,
      "outputs": [
        {
          "output_type": "stream",
          "name": "stdout",
          "text": [
            "15\n",
            "610\n"
          ]
        }
      ]
    },
    {
      "cell_type": "markdown",
      "source": [
        "11726번 : 2*n 타일링  \n",
        "출처 : https://www.acmicpc.net/problem/11726"
      ],
      "metadata": {
        "id": "qXDg4U0G4TTm"
      }
    },
    {
      "cell_type": "code",
      "source": [
        "n = int(input())\n",
        "\n",
        "array = [0] * 1001\n",
        "array[1] = 1\n",
        "array[2] = 2\n",
        "array[3] = 3\n",
        "\n",
        "# 피보나치 수 계산과 유사하다.\n",
        "# n = 4 일때의 타일의 종류는 n = 3 일때의 타일 종류에 1 by 2 타일을 뒤에 붙이는 경우와\n",
        "# n = 2 일때의 타일 종류에 2 by 1 타일 두개를 이어 붙이는 경우를 더하면 된다.\n",
        "for i in range(4, n + 1):\n",
        "    array[i] = array[i - 1] + array[i - 2]\n",
        "    \n",
        "print(array[n] % 10007)"
      ],
      "metadata": {
        "colab": {
          "base_uri": "https://localhost:8080/"
        },
        "id": "peN2Afz04uii",
        "outputId": "123e797a-e31e-4e36-f563-c25a2e6c77a8"
      },
      "execution_count": null,
      "outputs": [
        {
          "output_type": "stream",
          "name": "stdout",
          "text": [
            "500\n",
            "9495\n"
          ]
        }
      ]
    },
    {
      "cell_type": "markdown",
      "source": [
        "1149번 : RGB 거리  \n",
        "출처 : https://www.acmicpc.net/problem/1149"
      ],
      "metadata": {
        "id": "LgWpONub7FXn"
      }
    },
    {
      "cell_type": "code",
      "source": [
        "n = int(input())\n",
        "\n",
        "# 3가지 이동경로를 가지는 각 경우에 대해 저장하는 배열\n",
        "path1 = [0] * 1001\n",
        "path2 = [0] * 1001\n",
        "path3 = [0] * 1001\n",
        "\n",
        "cost = list(map(int, input().split()))\n",
        "path1[1] = cost[0]\n",
        "path2[1] = cost[1]\n",
        "path3[1] = cost[2]\n",
        "\n",
        "# 각 path 배열에 이전의 경로들의 최단 비용을 나타내는 경로가 포함되어 있고,\n",
        "# 현재에 이동할 수 있는 경로의 비용을 더하여 비교한다.\n",
        "# binary tree 과 비슷하게 모든 경우의 수를 계산하는 방법은 이와 같이 표현 가능\n",
        "for i in range(2, n + 1):\n",
        "    cost = list(map(int, input().split()))\n",
        "    path1[i] = min(path2[i - 1], path3[i - 1]) + cost[0]\n",
        "    path2[i] = min(path1[i - 1], path3[i - 1]) + cost[1]\n",
        "    path3[i] = min(path1[i - 1], path2[i - 1]) + cost[2]\n",
        "    \n",
        "print(min(path1[n], path2[n], path3[n]))"
      ],
      "metadata": {
        "colab": {
          "base_uri": "https://localhost:8080/"
        },
        "id": "xRkGcDIJ8XS5",
        "outputId": "3a5f40de-fc15-46c0-d390-6abca451c2b9"
      },
      "execution_count": null,
      "outputs": [
        {
          "output_type": "stream",
          "name": "stdout",
          "text": [
            "3\n",
            "26 40 83\n",
            "49 60 57\n",
            "13 89 99\n",
            "96\n"
          ]
        }
      ]
    },
    {
      "cell_type": "markdown",
      "source": [
        "2579번 : 계단 오르기  \n",
        "출처 : https://www.acmicpc.net/problem/2579"
      ],
      "metadata": {
        "id": "Zkw4GC7i-VKm"
      }
    },
    {
      "cell_type": "code",
      "source": [
        "n = int(input())\n",
        "\n",
        "score = [0] * (n + 1)\n",
        "array = [0] * (n + 1)\n",
        "\n",
        "for i in range(1, n + 1):\n",
        "  score[i] = int(input())\n",
        "\n",
        "array[1] = score[1]\n",
        "\n",
        "if n > 1:\n",
        "    array[2] = max(score[2] + score[1], score[2])\n",
        "\n",
        "    # 현재 계단에서 올수 있는 경우는 두 칸 이동한 경우와 이전에 두 칸 이동 후 한 칸 이동한 경우로 나뉜다.\n",
        "    for j in range(3, n + 1):\n",
        "      array[j] = max(array[j - 2], array[j - 3] + score[j - 1]) + score[j]\n",
        "\n",
        "print(array[n])"
      ],
      "metadata": {
        "colab": {
          "base_uri": "https://localhost:8080/"
        },
        "id": "jdqHEuAxUV-7",
        "outputId": "b5af09e6-95a0-4b83-afa4-44ab2d9fb478"
      },
      "execution_count": null,
      "outputs": [
        {
          "output_type": "stream",
          "name": "stdout",
          "text": [
            "6\n",
            "10\n",
            "20\n",
            "15\n",
            "25\n",
            "10\n",
            "20\n",
            "75\n"
          ]
        }
      ]
    },
    {
      "cell_type": "markdown",
      "source": [
        "11053번 : 가장 긴 증가하는 부분 수열  \n",
        "출처 : https://www.acmicpc.net/problem/11053"
      ],
      "metadata": {
        "id": "JtCEZhk7XuHO"
      }
    },
    {
      "cell_type": "code",
      "source": [
        "n = int(input())\n",
        "data = list(map(int, input().split()))\n",
        "arr = [0] * (n + 1)\n",
        "arr[1] = 1\n",
        "\n",
        "for i in range(2, n + 1):\n",
        "    for j in range(1, i + 1):\n",
        "        # 해당 자리의 숫자에서 왼쪽 배열들을 보았을 때\n",
        "        # 작은 값들의 후보중 가장 긴 부분 집합을 가진 배열 찾기\n",
        "        if data[i - 1] > data[j - 1] and arr[i] < arr[j]:\n",
        "            arr[i] = arr[j]\n",
        "    arr[i] += 1\n",
        "\n",
        "print(max(arr))"
      ],
      "metadata": {
        "colab": {
          "base_uri": "https://localhost:8080/"
        },
        "id": "KBoaNx5FX6Lc",
        "outputId": "f5219c8f-2694-4b51-90cf-398b7830f029"
      },
      "execution_count": null,
      "outputs": [
        {
          "output_type": "stream",
          "name": "stdout",
          "text": [
            "6\n",
            "10 20 10 30 20 50\n",
            "4\n"
          ]
        }
      ]
    },
    {
      "cell_type": "markdown",
      "source": [
        "1932번 : 정수 삼각형  \n",
        "출처 : https://www.acmicpc.net/problem/1932"
      ],
      "metadata": {
        "id": "yePEqJg-a1Ux"
      }
    },
    {
      "cell_type": "code",
      "source": [
        "n = int(input())\n",
        "\n",
        "arr = [0] * n\n",
        "\n",
        "for _ in range(n):\n",
        "    data = list(map(int, input().split()))\n",
        "    \n",
        "    data[0] = arr[0] + data[0]\n",
        "    for i in range(1, len(data)):\n",
        "        data[i] = max(arr[i - 1], arr[i]) + data[i]\n",
        "    \n",
        "    for j in range(len(data)):\n",
        "        arr[j] = data[j]\n",
        "        \n",
        "print(max(arr))"
      ],
      "metadata": {
        "id": "5S_z0gY2QL7I",
        "colab": {
          "base_uri": "https://localhost:8080/"
        },
        "outputId": "737c6587-63a7-4a91-8d03-e87e74b2b727"
      },
      "execution_count": null,
      "outputs": [
        {
          "output_type": "stream",
          "name": "stdout",
          "text": [
            "5\n",
            "7\n",
            "3 8\n",
            "8 1 0\n",
            "2 7 4 4\n",
            "4 5 2 6 5\n",
            "30\n"
          ]
        }
      ]
    },
    {
      "cell_type": "markdown",
      "source": [
        "1912번 : 연속합  \n",
        "출처 : https://www.acmicpc.net/problem/1912"
      ],
      "metadata": {
        "id": "W_NtHto5LfDB"
      }
    },
    {
      "cell_type": "code",
      "source": [
        "n = int(input())\n",
        "\n",
        "arr = [0] * (n)\n",
        "data = list(map(int, input().split()))\n",
        "arr[0] = data[0]\n",
        "\n",
        "for i in range(1, n):\n",
        "    arr[i] = max(arr[i - 1] + data[i], data[i])\n",
        "    \n",
        "print(max(arr))"
      ],
      "metadata": {
        "colab": {
          "base_uri": "https://localhost:8080/"
        },
        "id": "NWHxrQFVnbmc",
        "outputId": "96bd309b-d8c4-41bf-9d92-e0d918b7e37c"
      },
      "execution_count": null,
      "outputs": [
        {
          "output_type": "stream",
          "name": "stdout",
          "text": [
            "5\n",
            "-1 -2 -3 -4 -5\n",
            "-1\n"
          ]
        }
      ]
    }
  ]
}