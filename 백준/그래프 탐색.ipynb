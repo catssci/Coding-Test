{
  "nbformat": 4,
  "nbformat_minor": 0,
  "metadata": {
    "colab": {
      "name": "그래프 탐색.ipynb",
      "provenance": [],
      "collapsed_sections": [],
      "authorship_tag": "ABX9TyO4jdVPTk2BbvK0/ntzldZI",
      "include_colab_link": true
    },
    "kernelspec": {
      "name": "python3",
      "display_name": "Python 3"
    },
    "language_info": {
      "name": "python"
    }
  },
  "cells": [
    {
      "cell_type": "markdown",
      "metadata": {
        "id": "view-in-github",
        "colab_type": "text"
      },
      "source": [
        "<a href=\"https://colab.research.google.com/github/TaeGongKim/Coding-Test/blob/main/%EB%B0%B1%EC%A4%80/%EA%B7%B8%EB%9E%98%ED%94%84%20%ED%83%90%EC%83%89.ipynb\" target=\"_parent\"><img src=\"https://colab.research.google.com/assets/colab-badge.svg\" alt=\"Open In Colab\"/></a>"
      ]
    },
    {
      "cell_type": "markdown",
      "source": [
        "1260번 : DFS와 BFS  \n",
        "출처 : https://www.acmicpc.net/problem/1260"
      ],
      "metadata": {
        "id": "obCKByoVuJZR"
      }
    },
    {
      "cell_type": "code",
      "source": [
        "from collections import deque\n",
        "\n",
        "n, m, v = map(int, input().split())\n",
        "\n",
        "graph = [[] for i in range(n + 1)]\n",
        "for i in range(m):\n",
        "    s, e = map(int, input().split())\n",
        "    graph[s].append(e)\n",
        "    graph[e].append(s)\n",
        "\n",
        "for i in range(1, n + 1):\n",
        "    graph[i].sort()\n",
        "\n",
        "# DFS\n",
        "visited = [False] * (n + 1)\n",
        "def dfs(graph, v, visited):\n",
        "    print(v, end = ' ')\n",
        "    visited[v] = True\n",
        "    for i in graph[v]:\n",
        "        if visited[i] == False:\n",
        "            dfs(graph, i, visited)    \n",
        "            \n",
        "dfs(graph, v, visited)\n",
        "print('')\n",
        "\n",
        "# BFS\n",
        "visited = [False] * (n + 1)\n",
        "def bfs(graph, v, visited):\n",
        "    q = deque([v])\n",
        "    visited[v] = True\n",
        "    while q:\n",
        "        s = q.popleft()\n",
        "        print(s, end = ' ')\n",
        "        for i in graph[s]:\n",
        "            if visited[i] == False:\n",
        "                q.append(i)\n",
        "                visited[i] = True\n",
        "\n",
        "bfs(graph, v, visited)"
      ],
      "metadata": {
        "colab": {
          "base_uri": "https://localhost:8080/"
        },
        "id": "o_TMrdvruQi8",
        "outputId": "9c80d585-f030-4adf-c32a-eba74bc8b51e"
      },
      "execution_count": null,
      "outputs": [
        {
          "output_type": "stream",
          "name": "stdout",
          "text": [
            "1000 1 1000\n",
            "999 1000\n",
            "1000 999 \n",
            "1000 999 "
          ]
        }
      ]
    },
    {
      "cell_type": "markdown",
      "source": [
        "2178번 : 미로 탐색  \n",
        "출처 : https://www.acmicpc.net/problem/2178"
      ],
      "metadata": {
        "id": "7gXLOBgVDWlu"
      }
    },
    {
      "cell_type": "code",
      "source": [
        "from collections import deque\n",
        "\n",
        "n, m = map(int, input().split())\n",
        "array = []\n",
        "\n",
        "for i in range(n):\n",
        "    array.append(list(map(int, list(input()))))\n",
        "\n",
        "dn = [1, -1, 0, 0]\n",
        "dm = [0, 0, 1, -1]\n",
        "\n",
        "q = deque()\n",
        "q.append([0, 0])\n",
        "while q:\n",
        "    x, y = q.popleft()\n",
        "    for i in range(4):\n",
        "        nx = x + dn[i]\n",
        "        ny = y + dm[i]\n",
        "        \n",
        "        if nx >= 0 and nx < n and ny >= 0 and ny < m:\n",
        "            if array[nx][ny] == 1:\n",
        "                q.append([nx, ny])\n",
        "                array[nx][ny] = array[x][y] + 1\n",
        "\n",
        "print(array[n-1][m-1])"
      ],
      "metadata": {
        "colab": {
          "base_uri": "https://localhost:8080/"
        },
        "id": "EQm6ILSxDlVj",
        "outputId": "70f3bf92-71b9-45e3-f5de-936fb807ae88"
      },
      "execution_count": null,
      "outputs": [
        {
          "output_type": "stream",
          "name": "stdout",
          "text": [
            "4 6\n",
            "101111\n",
            "101010\n",
            "101011\n",
            "111011\n",
            "15\n"
          ]
        }
      ]
    },
    {
      "cell_type": "markdown",
      "source": [
        "2667번 : 단지번호붙이기  \n",
        "출처 : https://www.acmicpc.net/problem/2667"
      ],
      "metadata": {
        "id": "MPwwyoqLFexJ"
      }
    },
    {
      "cell_type": "code",
      "source": [
        "from collections import deque\n",
        "\n",
        "n = int(input())\n",
        "\n",
        "array = []\n",
        "for _ in range(n):\n",
        "    array.append(list(map(int, list(input()))))\n",
        "    \n",
        "dx = [1, -1, 0, 0]\n",
        "dy = [0, 0, -1, 1]\n",
        "\n",
        "\n",
        "def bfs(array, s, e):\n",
        "    if array[s][e] == 0:\n",
        "        return 0\n",
        "    ans = 1\n",
        "    q = deque()\n",
        "    q.append([s, e])\n",
        "    array[s][e] = 0\n",
        "    while q:\n",
        "        x, y = q.popleft()\n",
        "        for i in range(4):\n",
        "            nx = x + dx[i]\n",
        "            ny = y + dy[i]\n",
        "        \n",
        "            if nx >= 0 and nx < n and ny >= 0 and ny < n:\n",
        "                if array[nx][ny] == 1:\n",
        "                    q.append([nx, ny])\n",
        "                    array[nx][ny] = 0\n",
        "                    ans += 1\n",
        "    return ans\n",
        "\n",
        "answer = []\n",
        "for i in range(n):\n",
        "    for j in range(n):\n",
        "        x = bfs(array, i, j)\n",
        "        if x > 0:\n",
        "            answer.append(x)\n",
        "            \n",
        "answer.sort()\n",
        "if len(answer) == 0:\n",
        "    print(0)\n",
        "    print(0)\n",
        "else:\n",
        "    print(len(answer))\n",
        "    for ans in answer:\n",
        "        print(ans)"
      ],
      "metadata": {
        "colab": {
          "base_uri": "https://localhost:8080/"
        },
        "id": "cx5QSG1uFlQh",
        "outputId": "7046c273-59ab-47c1-8d9e-52be56f3d0eb"
      },
      "execution_count": null,
      "outputs": [
        {
          "output_type": "stream",
          "name": "stdout",
          "text": [
            "7\n",
            "0110100\n",
            "0110101\n",
            "1110101\n",
            "0000111\n",
            "0100000\n",
            "0111110\n",
            "0111000\n",
            "3\n",
            "7\n",
            "8\n",
            "9\n"
          ]
        }
      ]
    },
    {
      "cell_type": "markdown",
      "source": [
        "2606번 : 바이러스  \n",
        "출처 : https://www.acmicpc.net/problem/2606"
      ],
      "metadata": {
        "id": "pUU_hbbrFm1w"
      }
    },
    {
      "cell_type": "code",
      "source": [
        "from collections import deque\n",
        "\n",
        "v = int(input())\n",
        "e = int(input())\n",
        "\n",
        "graph = [[] for i in range(v + 1)]\n",
        "\n",
        "for i in range(e):\n",
        "    s, e = map(int, input().split())\n",
        "    graph[s].append(e)\n",
        "    graph[e].append(s)\n",
        "    \n",
        "for i in range(1, v + 1):\n",
        "    graph[i].sort()\n",
        "    \n",
        "def bfs(graph, start, visited):\n",
        "    q = deque()\n",
        "    q.append(start)\n",
        "    visited[start] = True\n",
        "    while q:\n",
        "        v = q.popleft()\n",
        "        for i in graph[v]:\n",
        "            if not visited[i]:\n",
        "                q.append(i)\n",
        "                visited[i] = True\n",
        "                \n",
        "visited = [False] * (v + 1)\n",
        "bfs(graph, 1, visited)\n",
        "print(sum(visited) - 1)"
      ],
      "metadata": {
        "colab": {
          "base_uri": "https://localhost:8080/"
        },
        "id": "jJsfWnrnLu95",
        "outputId": "9b59cb2e-cee7-42ab-b15a-5a436f9f516b"
      },
      "execution_count": null,
      "outputs": [
        {
          "output_type": "stream",
          "name": "stdout",
          "text": [
            "7\n",
            "6\n",
            "1 2\n",
            "2 3\n",
            "1 5\n",
            "5 2\n",
            "5 6\n",
            "4 7\n",
            "5\n"
          ]
        }
      ]
    },
    {
      "cell_type": "markdown",
      "source": [
        "1012번 : 유기농 배추  \n",
        "출처 : https://www.acmicpc.net/problem/1012"
      ],
      "metadata": {
        "id": "gMcmNCy5L1iX"
      }
    },
    {
      "cell_type": "code",
      "source": [
        "from collections import deque\n",
        "\n",
        "T = int(input())\n",
        "\n",
        "def bfs(array, x, y, m, n):\n",
        "    if array[y][x] == 0:\n",
        "        return False\n",
        "    q = deque()\n",
        "    q.append([y, x])\n",
        "    array[y][x] = 0\n",
        "    \n",
        "    dx = [1, -1, 0, 0]\n",
        "    dy = [0, 0, 1, -1]\n",
        "    while q:\n",
        "        y, x = q.popleft()\n",
        "        for i in range(4):\n",
        "            ny = y + dy[i]\n",
        "            nx = x + dx[i]\n",
        "            \n",
        "            if nx >= 0 and nx < m and ny >= 0 and ny < n:\n",
        "                if array[ny][nx] == 1:\n",
        "                    q.append([ny, nx])\n",
        "                    array[ny][nx] = 0\n",
        "    return True\n",
        "\n",
        "for _ in range(T):\n",
        "    # m : 가로 수, n : 세로 수\n",
        "    m, n, k = map(int, input().split())\n",
        "    \n",
        "    array = [[0] * m for i in range(n)]\n",
        "    for _ in range(k):\n",
        "        # x : 가로, y : 세로\n",
        "        x, y = map(int, input().split())\n",
        "        array[y][x] = 1\n",
        "    \n",
        "    ans = 0\n",
        "    for i in range(m):\n",
        "        for j in range(n):\n",
        "            if bfs(array, i, j, m, n):\n",
        "                ans += 1\n",
        "    print(ans)"
      ],
      "metadata": {
        "colab": {
          "base_uri": "https://localhost:8080/"
        },
        "id": "0QNwZqNCL6yg",
        "outputId": "1331e035-8208-404a-e07a-9f9e7408290e"
      },
      "execution_count": null,
      "outputs": [
        {
          "output_type": "stream",
          "name": "stdout",
          "text": [
            "1\n",
            "5 3 6\n",
            "0 2\n",
            "1 2\n",
            "2 2\n",
            "3 2\n",
            "4 2\n",
            "4 0\n",
            "0 2\n",
            "4 0\n",
            "2\n"
          ]
        }
      ]
    },
    {
      "cell_type": "markdown",
      "source": [
        "7576번 : 토마토  \n",
        "출처 : https://www.acmicpc.net/problem/7576"
      ],
      "metadata": {
        "id": "IBGYmKbu_IWn"
      }
    },
    {
      "cell_type": "code",
      "source": [
        "from collections import deque\n",
        "\n",
        "# m : 가로 수, n : 세로 수\n",
        "m, n = map(int, input().split())\n",
        "\n",
        "array = [[0] * m for _ in range(n)]\n",
        "L = []\n",
        "for i in range(n):\n",
        "    data = list(map(int, input().split()))\n",
        "    for j in range(m):\n",
        "        array[i][j] = data[j]\n",
        "        if data[j] == 1:\n",
        "            L.append([i, j])\n",
        "\n",
        "dx = [1, -1, 0, 0]\n",
        "dy = [0, 0, 1, -1]\n",
        "    \n",
        "def bfs(array, L):\n",
        "    q = deque()\n",
        "    for i in range(len(L)):\n",
        "        x, y = L[i]\n",
        "        q.append([x, y])\n",
        "    while q:\n",
        "        x, y = q.popleft()\n",
        "        \n",
        "        for i in range(4):\n",
        "            nx = x + dx[i]\n",
        "            ny = y + dy[i]\n",
        "            \n",
        "            if nx >= 0 and nx < n and ny >= 0 and ny < m:\n",
        "                if array[nx][ny] == 0:\n",
        "                    q.append([nx, ny])\n",
        "                    array[nx][ny] = array[x][y] + 1\n",
        "        \n",
        "bfs(array, L)\n",
        "\n",
        "for i in range(n):\n",
        "    for i in range(m):\n",
        "        if array[i][j] == 0:\n",
        "          print(-1)\n",
        "          exit(0)\n",
        "\n",
        "print(max(max(array)) - 1)"
      ],
      "metadata": {
        "colab": {
          "base_uri": "https://localhost:8080/"
        },
        "id": "HMQBqxMxD9Bz",
        "outputId": "e8b90f74-f060-4230-8baf-014d41dcc1fa"
      },
      "execution_count": null,
      "outputs": [
        {
          "output_type": "stream",
          "name": "stdout",
          "text": [
            "2 2\n",
            "1 -1\n",
            "-1 1\n",
            "0\n"
          ]
        }
      ]
    },
    {
      "cell_type": "markdown",
      "source": [
        ""
      ],
      "metadata": {
        "id": "bi4s9IzPPVZr"
      }
    }
  ]
}