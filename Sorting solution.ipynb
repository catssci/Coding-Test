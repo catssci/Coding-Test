{
  "nbformat": 4,
  "nbformat_minor": 0,
  "metadata": {
    "colab": {
      "name": "기출 문제 (풀이).ipynb",
      "provenance": [],
      "collapsed_sections": [],
      "authorship_tag": "ABX9TyNbT8Sh64VFJlg+Ml7jjUKl",
      "include_colab_link": true
    },
    "kernelspec": {
      "name": "python3",
      "display_name": "Python 3"
    },
    "language_info": {
      "name": "python"
    }
  },
  "cells": [
    {
      "cell_type": "markdown",
      "metadata": {
        "id": "view-in-github",
        "colab_type": "text"
      },
      "source": [
        "<a href=\"https://colab.research.google.com/github/TaeGongKim/Coding-Test/blob/main/sorting%20solution.ipynb\" target=\"_parent\"><img src=\"https://colab.research.google.com/assets/colab-badge.svg\" alt=\"Open In Colab\"/></a>"
      ]
    },
    {
      "cell_type": "markdown",
      "metadata": {
        "id": "hqj02KtVBGmL"
      },
      "source": [
        "# 1. 국영수"
      ]
    },
    {
      "cell_type": "code",
      "metadata": {
        "colab": {
          "base_uri": "https://localhost:8080/"
        },
        "id": "BwCXpfYBBMG2",
        "outputId": "6ea31c9f-9e20-43f9-89b5-1cb23a5f7bed"
      },
      "source": [
        "n = int(input())\n",
        "students = []\n",
        "\n",
        "for _ in range(n):\n",
        "  students.append(input().split())\n",
        "\n",
        "students.sort(key = lambda x: (-int(x[1]), int(x[2]), -int(x[3]), x[0]))\n",
        "\n",
        "for student in students:\n",
        "  print(student[0])"
      ],
      "execution_count": 1,
      "outputs": [
        {
          "output_type": "stream",
          "name": "stdout",
          "text": [
            "12\n",
            "Junkyu 50 60 100\n",
            "Sangkeun 80 60 50\n",
            "Sunyoung 80 70 100\n",
            "Soong 50 60 90\n",
            "Haebin 50 60 100\n",
            "Kangsoo 60 80 100\n",
            "Donghyuk 80 60 100\n",
            "Sei 70 70 70\n",
            "Wonseob 70 70 90\n",
            "Sanghyun 70 70 80\n",
            "nsj 80 80 80\n",
            "Taewhan 50 60 90\n",
            "Donghyuk\n",
            "Sangkeun\n",
            "Sunyoung\n",
            "nsj\n",
            "Wonseob\n",
            "Sanghyun\n",
            "Sei\n",
            "Kangsoo\n",
            "Haebin\n",
            "Junkyu\n",
            "Soong\n",
            "Taewhan\n"
          ]
        }
      ]
    },
    {
      "cell_type": "markdown",
      "metadata": {
        "id": "AqUKl38w4Jwb"
      },
      "source": [
        "- sorting 중에 lambda 함수를 사용함으로써 각 원소들의 기준들을 설정한다.\n",
        "- 설정 기준이 하나일 수도 있지만 위처럼 여러개로 사용 가능하다."
      ]
    },
    {
      "cell_type": "markdown",
      "metadata": {
        "id": "FFZd2TPY3u8-"
      },
      "source": [
        "# 2. 안테나"
      ]
    },
    {
      "cell_type": "code",
      "metadata": {
        "colab": {
          "base_uri": "https://localhost:8080/"
        },
        "id": "QlbDkGOV4JLd",
        "outputId": "128ba146-d0e0-4ba9-fbe4-c32f7168aaf8"
      },
      "source": [
        "n = int(input())\n",
        "data = list(map(int, input().split()))\n",
        "data.sort()\n",
        "\n",
        "print(data[(n - 1) // 2])"
      ],
      "execution_count": 2,
      "outputs": [
        {
          "output_type": "stream",
          "name": "stdout",
          "text": [
            "6\n",
            "1 2 3 5 8 9\n",
            "3\n"
          ]
        }
      ]
    },
    {
      "cell_type": "markdown",
      "metadata": {
        "id": "mxXd2MA24yUA"
      },
      "source": [
        "- 기준에서 각 지점까지의 거리 합이 최소가 되기 위해서는 중간 기준점을 설정하면 가능하다.\n",
        "- 지점의 개수가 짝수이면 최소값을 가지는 지점이 2개가 나오므로 작은 지점을 찾기 위해 n-1 // 2 이와 같이 계산한다."
      ]
    },
    {
      "cell_type": "markdown",
      "metadata": {
        "id": "Km-sm31L5p1G"
      },
      "source": [
        "# 3. 실패율"
      ]
    },
    {
      "cell_type": "code",
      "metadata": {
        "id": "_Za9b-dk5sYG"
      },
      "source": [
        "# https://programmers.co.kr/learn/courses/30/lessons/42889"
      ],
      "execution_count": 3,
      "outputs": []
    },
    {
      "cell_type": "code",
      "metadata": {
        "id": "zwQsYLvY5wz7"
      },
      "source": [
        "def solution(N, stages):\n",
        "    answer = []\n",
        "    length = len(stages)\n",
        "    \n",
        "    for i in range(1, N + 1):\n",
        "        count = stages.count(i)\n",
        "        \n",
        "        if length == 0:\n",
        "            fail = 0\n",
        "        else:\n",
        "            fail = count / length\n",
        "            \n",
        "        answer.append((i, fail))\n",
        "        length -= count\n",
        "        \n",
        "    answer = sorted(answer, key = lambda t: t[1], reverse = True)\n",
        "    \n",
        "    answer = [i[0] for i in answer]\n",
        "    return answer"
      ],
      "execution_count": 4,
      "outputs": []
    },
    {
      "cell_type": "markdown",
      "metadata": {
        "id": "plERt3lU6dUX"
      },
      "source": [
        "- list의 count 함수를 이용하여 해당 list의 특정 원소 개수를 계산할 수 있다. 이때 해당 list에 존재하지 않는 원소는 0을 리턴하므로 이를 이용하면 실패율을 잘 계산할 수 있다.\n",
        "- length 변수에 count를 빼가면서 진행하면 list를 변화시키지 않아도 다음 단계로 넘어갈 수 있다."
      ]
    },
    {
      "cell_type": "markdown",
      "metadata": {
        "id": "blPwA2KZ7EeV"
      },
      "source": [
        "# 4. 카드 정렬하기"
      ]
    },
    {
      "cell_type": "code",
      "metadata": {
        "colab": {
          "base_uri": "https://localhost:8080/"
        },
        "id": "rdsqp8zW7JQW",
        "outputId": "4db69259-1cd9-45dd-d09b-d5b92019b270"
      },
      "source": [
        "import heapq\n",
        "\n",
        "n = int(input())\n",
        "\n",
        "heap = []\n",
        "for i in range(n):\n",
        "  data = int(input())\n",
        "  heapq.heappush(heap, data)\n",
        "\n",
        "result = 0\n",
        "\n",
        "while len(heap) != 1:\n",
        "  one = heapq.heappop(heap)\n",
        "  two = heapq.heappop(heap)\n",
        "\n",
        "  sum_value = one + two\n",
        "  result += sum_value\n",
        "  heapq.heappush(heap, sum_value)\n",
        "\n",
        "print(result)"
      ],
      "execution_count": 5,
      "outputs": [
        {
          "output_type": "stream",
          "name": "stdout",
          "text": [
            "4\n",
            "10\n",
            "20\n",
            "40\n",
            "50\n",
            "220\n"
          ]
        }
      ]
    },
    {
      "cell_type": "markdown",
      "metadata": {
        "id": "u6xBUQLb75VC"
      },
      "source": [
        "- 항상 가장 작은 크기의 두 카드 묶음을 합쳤을 때 최적의 해를 보장한다.\n",
        "- 이를 위해 heap 자료구조를 사용한다.\n",
        "- heap을 활용하여 가장 작은 카드 뭉치 2개를 pop하고, 합친 다음 정렬된 카드 뭉치를 push한다. 이 과정을 반복하면 마지막 sum_value에 완전히 합쳐진 카드 뭉치가 출력된다. 이러한 sum_value 들을 모두 합하여 출력하게 되면 총 비교하게 되는 횟수를 계산할 수 있다."
      ]
    },
    {
      "cell_type": "code",
      "metadata": {
        "id": "3r_RFtoP84ZQ"
      },
      "source": [
        ""
      ],
      "execution_count": null,
      "outputs": []
    }
  ]
}
