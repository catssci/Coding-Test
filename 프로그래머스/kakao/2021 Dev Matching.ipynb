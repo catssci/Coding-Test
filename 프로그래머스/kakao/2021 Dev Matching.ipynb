{
  "nbformat": 4,
  "nbformat_minor": 0,
  "metadata": {
    "colab": {
      "name": "2021 Dev-Matching.ipynb",
      "provenance": [],
      "collapsed_sections": [],
      "authorship_tag": "ABX9TyOyts9A/GFlUGRHNs5e47y3",
      "include_colab_link": true
    },
    "kernelspec": {
      "name": "python3",
      "display_name": "Python 3"
    },
    "language_info": {
      "name": "python"
    }
  },
  "cells": [
    {
      "cell_type": "markdown",
      "metadata": {
        "id": "view-in-github",
        "colab_type": "text"
      },
      "source": [
        "<a href=\"https://colab.research.google.com/github/TaeGongKim/Coding-Test/blob/main/%ED%94%84%EB%A1%9C%EA%B7%B8%EB%9E%98%EB%A8%B8%EC%8A%A4/kakao/2021%20Dev%20Matching.ipynb\" target=\"_parent\"><img src=\"https://colab.research.google.com/assets/colab-badge.svg\" alt=\"Open In Colab\"/></a>"
      ]
    },
    {
      "cell_type": "markdown",
      "source": [
        "# 웹 백엔드 개발자 (상반기)\n",
        "- https://programmers.co.kr/learn/challenges"
      ],
      "metadata": {
        "id": "RK6GxCJ3f677"
      }
    },
    {
      "cell_type": "markdown",
      "source": [
        "## 로또의 최고 순위와 최저 순위"
      ],
      "metadata": {
        "id": "S4ISr1bpgGmM"
      }
    },
    {
      "cell_type": "code",
      "source": [
        "def solution(lottos, win_nums):\n",
        "    ans = 0\n",
        "    zero = 0\n",
        "    for l in lottos:\n",
        "        if l in win_nums:\n",
        "            ans += 1\n",
        "        elif l == 0:\n",
        "            zero += 1\n",
        "                \n",
        "    grades = [6, 6, 5, 4, 3, 2, 1]\n",
        "    answer = [grades[ans + zero], grades[ans]]\n",
        "    return answer"
      ],
      "metadata": {
        "id": "ejjI47tKgLts"
      },
      "execution_count": 8,
      "outputs": []
    },
    {
      "cell_type": "code",
      "source": [
        "lottos = [44, 1, 0, 0, 31, 25]\n",
        "win_nums = [31, 10, 45, 1, 6, 19]\n",
        "solution(lottos, win_nums)\n",
        "\n",
        "## result : [3, 5]"
      ],
      "metadata": {
        "colab": {
          "base_uri": "https://localhost:8080/"
        },
        "id": "t8vDLPjggPCU",
        "outputId": "4f881ef6-a945-4e22-93f9-bff4fad297ef"
      },
      "execution_count": 9,
      "outputs": [
        {
          "output_type": "execute_result",
          "data": {
            "text/plain": [
              "[3, 5]"
            ]
          },
          "metadata": {},
          "execution_count": 9
        }
      ]
    },
    {
      "cell_type": "markdown",
      "source": [
        "## 행렬 테두리 회전하하기"
      ],
      "metadata": {
        "id": "lSThKEHUgPmt"
      }
    },
    {
      "cell_type": "code",
      "source": [
        "def solution(rows, columns, queries):\n",
        "    array = [[0] * columns for _ in range(rows)]\n",
        "    \n",
        "    x = 1\n",
        "    for i in range(rows):\n",
        "        for j in range(columns):\n",
        "            array[i][j] = x\n",
        "            x += 1\n",
        "            \n",
        "    answer = []\n",
        "    \n",
        "    for x1, y1, x2, y2 in queries:\n",
        "        tmp = array[x1-1][y1-1]\n",
        "        mini = tmp\n",
        "        \n",
        "        # 왼쪽 시작\n",
        "        for k in range(x1-1,x2-1):\n",
        "            array[k][y1-1] = array[k+1][y1-1]\n",
        "            mini = min(mini, array[k][y1-1])\n",
        "            \n",
        "        # 아래 시작\n",
        "        for k in range(y1-1, y2-1):\n",
        "            array[x2-1][k] = array[x2-1][k+1]\n",
        "            mini = min(mini, array[x2-1][k])\n",
        "            \n",
        "        # 오른쪽 시작\n",
        "        for k in range(x2-1, x1-1, -1):\n",
        "            array[k][y2-1] = array[k-1][y2-1]\n",
        "            mini = min(mini, array[k][y2-1])\n",
        "            \n",
        "        # 위쪽 시작\n",
        "        for k in range(y2-1, y1-1, -1):\n",
        "            array[x1-1][k] = array[x1-1][k-1]\n",
        "            mini = min(mini, array[x1-1][k])\n",
        "            \n",
        "        array[x1-1][y1] = tmp\n",
        "        answer.append(mini)\n",
        "    \n",
        "    return answer"
      ],
      "metadata": {
        "id": "RjM0_xAcgT7V"
      },
      "execution_count": 3,
      "outputs": []
    },
    {
      "cell_type": "code",
      "source": [
        "rows, columns = 6, 6\n",
        "queries = [[2,2,5,4],[3,3,6,6],[5,1,6,3]]\n",
        "solution(rows, columns, queries)\n",
        "\n",
        "## result : [8, 10, 25]"
      ],
      "metadata": {
        "colab": {
          "base_uri": "https://localhost:8080/"
        },
        "id": "HrTyuVoYgVEU",
        "outputId": "223f7694-8df0-4892-ce0d-82122416bbb9"
      },
      "execution_count": 4,
      "outputs": [
        {
          "output_type": "execute_result",
          "data": {
            "text/plain": [
              "[8, 10, 25]"
            ]
          },
          "metadata": {},
          "execution_count": 4
        }
      ]
    },
    {
      "cell_type": "markdown",
      "source": [
        "## 다단계 칫솔 판매"
      ],
      "metadata": {
        "id": "xRpGbh9YgVdF"
      }
    },
    {
      "cell_type": "code",
      "source": [
        "def solution(enroll, referral, seller, amount):\n",
        "    graph = {}\n",
        "    cost = {}\n",
        "    for en, re in zip(enroll, referral):\n",
        "        if re == '-':\n",
        "            graph[en] = 'center'\n",
        "        else:\n",
        "            graph[en] = re\n",
        "        cost[en] = 0\n",
        "        \n",
        "    for sell, am in zip(seller, amount):\n",
        "        am = am * 100\n",
        "        while True:\n",
        "            if sell == 'center' or am == 0:\n",
        "                break\n",
        "            reminder = int(am * 0.1)\n",
        "            cost[sell] += am - reminder\n",
        "            am = reminder\n",
        "            sell = graph[sell]\n",
        "    answer = []\n",
        "    for en in enroll:\n",
        "        answer.append(cost[en])\n",
        "    \n",
        "    return answer"
      ],
      "metadata": {
        "id": "v47Dz-OngXUK"
      },
      "execution_count": 5,
      "outputs": []
    },
    {
      "cell_type": "code",
      "source": [
        "enroll = [\"john\", \"mary\", \"edward\", \"sam\", \"emily\", \"jaimie\", \"tod\", \"young\"]\n",
        "referral = [\"-\", \"-\", \"mary\", \"edward\", \"mary\", \"mary\", \"jaimie\", \"edward\"]\n",
        "seller = [\"young\", \"john\", \"tod\", \"emily\", \"mary\"]\n",
        "amount = [12, 4, 2, 5, 10]\n",
        "solution(enroll, referral, seller, amount)\n",
        "\n",
        "## result : [360, 958, 108, 0, 450, 18, 180, 1080]"
      ],
      "metadata": {
        "colab": {
          "base_uri": "https://localhost:8080/"
        },
        "id": "7i2oBQmjgXvx",
        "outputId": "4c4b920d-06e2-4780-ac50-a8bb42f530c4"
      },
      "execution_count": 6,
      "outputs": [
        {
          "output_type": "execute_result",
          "data": {
            "text/plain": [
              "[360, 958, 108, 0, 450, 18, 180, 1080]"
            ]
          },
          "metadata": {},
          "execution_count": 6
        }
      ]
    },
    {
      "cell_type": "markdown",
      "source": [
        "## 헤비 유저가 소유한 장소"
      ],
      "metadata": {
        "id": "8ps-c3-8gX36"
      }
    },
    {
      "cell_type": "markdown",
      "source": [
        "MySQL Code  \n",
        "- https://programmers.co.kr/learn/courses/30/lessons/77487\n",
        "----"
      ],
      "metadata": {
        "id": "6xksJjwUga7L"
      }
    },
    {
      "cell_type": "markdown",
      "source": [
        "SELECT * FROM PLACES  \n",
        "WHERE HOST_ID IN (  \n",
        "    SELECT HOST_ID FROM PLACES  \n",
        "    GROUP BY HOST_ID  \n",
        "    HAVING COUNT(ID) >= 2  \n",
        ")  \n",
        "ORDER BY ID  "
      ],
      "metadata": {
        "id": "gDEDtWD9i0q-"
      }
    },
    {
      "cell_type": "code",
      "source": [
        ""
      ],
      "metadata": {
        "id": "H4vb6-iPjAop"
      },
      "execution_count": null,
      "outputs": []
    }
  ]
}