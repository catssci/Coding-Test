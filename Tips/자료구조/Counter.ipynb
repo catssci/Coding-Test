{
  "nbformat": 4,
  "nbformat_minor": 0,
  "metadata": {
    "colab": {
      "provenance": [],
      "authorship_tag": "ABX9TyP3geDrBSzTFuDZ8p0s5Txx",
      "include_colab_link": true
    },
    "kernelspec": {
      "name": "python3",
      "display_name": "Python 3"
    },
    "language_info": {
      "name": "python"
    }
  },
  "cells": [
    {
      "cell_type": "markdown",
      "metadata": {
        "id": "view-in-github",
        "colab_type": "text"
      },
      "source": [
        "<a href=\"https://colab.research.google.com/github/catssci/Coding-Test/blob/main/Tips/%EC%9E%90%EB%A3%8C%EA%B5%AC%EC%A1%B0/Counter.ipynb\" target=\"_parent\"><img src=\"https://colab.research.google.com/assets/colab-badge.svg\" alt=\"Open In Colab\"/></a>"
      ]
    },
    {
      "cell_type": "code",
      "execution_count": null,
      "metadata": {
        "colab": {
          "base_uri": "https://localhost:8080/"
        },
        "id": "mNosqQh_w1lo",
        "outputId": "33a58ee4-39fd-438f-c4be-7b367122856b"
      },
      "outputs": [
        {
          "output_type": "stream",
          "name": "stdout",
          "text": [
            "Counter({'mislav': 2, 'stanko': 1, 'ana': 1})\n"
          ]
        }
      ],
      "source": [
        "from collections import Counter\n",
        "\n",
        "temp = [\"mislav\", \"stanko\", \"mislav\", \"ana\"]\n",
        "temp_dict = Counter(temp)\n",
        "\n",
        "print(temp_dict)"
      ]
    },
    {
      "cell_type": "code",
      "source": [
        "# https://school.programmers.co.kr/learn/courses/30/lessons/42576\n",
        "temp2 = [\"mislav\", \"stanko\", \"mislav\"]\n",
        "\n",
        "temp2_dict = Counter(temp2)\n",
        "\n",
        "dict_diff = temp_dict - temp2_dict\n",
        "\n",
        "print(\"Counter dict는 차이 계산 가능\")\n",
        "print(dict_diff)"
      ],
      "metadata": {
        "colab": {
          "base_uri": "https://localhost:8080/"
        },
        "id": "vCaoc_8hxfdM",
        "outputId": "607cd4e8-dc3f-43c0-cb0c-64973c86f198"
      },
      "execution_count": null,
      "outputs": [
        {
          "output_type": "stream",
          "name": "stdout",
          "text": [
            "Counter dict는 차이 계산 가능\n",
            "Counter({'ana': 1})\n"
          ]
        }
      ]
    },
    {
      "cell_type": "code",
      "source": [
        "Counter({\"a\": 3}) - Counter({\"a\": 2})"
      ],
      "metadata": {
        "colab": {
          "base_uri": "https://localhost:8080/"
        },
        "id": "l63zbiMmx4DI",
        "outputId": "d62765ed-800b-4e98-fc0e-63e1796f33c5"
      },
      "execution_count": null,
      "outputs": [
        {
          "output_type": "execute_result",
          "data": {
            "text/plain": [
              "Counter({'a': 1})"
            ]
          },
          "metadata": {},
          "execution_count": 4
        }
      ]
    },
    {
      "cell_type": "code",
      "source": [
        "list1 = [1, 2, 10, 1, 4, 10, 2, 1, 1, 10]\n",
        "print(Counter(list1))\n",
        "\n",
        "list2 = [1, 2, 10, 1, 4, 10, 2, 1, 1]\n",
        "print(Counter(list2))"
      ],
      "metadata": {
        "colab": {
          "base_uri": "https://localhost:8080/"
        },
        "id": "rionvhhux_p2",
        "outputId": "18e375c0-fa53-4768-c59e-a710cc0b0d65"
      },
      "execution_count": null,
      "outputs": [
        {
          "output_type": "stream",
          "name": "stdout",
          "text": [
            "Counter({1: 4, 10: 3, 2: 2, 4: 1})\n",
            "Counter({1: 4, 2: 2, 10: 2, 4: 1})\n"
          ]
        }
      ]
    },
    {
      "cell_type": "code",
      "source": [
        "# - 두 Counter 비교하기\n",
        "\n",
        "print(Counter(list1) - Counter(list2))\n",
        "\n",
        "print(Counter(list1) + Counter(list2))\n",
        "\n",
        "print(Counter(list1) & Counter(list2))\n",
        "\n",
        "print(Counter(list1) | Counter(list2))"
      ],
      "metadata": {
        "id": "ag-m5Vdyywaz",
        "colab": {
          "base_uri": "https://localhost:8080/"
        },
        "outputId": "82dc02eb-1d7e-4c0c-fe64-ff38ae1f88a3"
      },
      "execution_count": 8,
      "outputs": [
        {
          "output_type": "stream",
          "name": "stdout",
          "text": [
            "Counter({10: 1})\n",
            "Counter({1: 8, 10: 5, 2: 4, 4: 2})\n",
            "Counter({1: 4, 2: 2, 10: 2, 4: 1})\n",
            "Counter({1: 4, 10: 3, 2: 2, 4: 1})\n"
          ]
        }
      ]
    },
    {
      "cell_type": "code",
      "source": [
        "# - 형태 변환하기\n",
        "\n",
        "print(list(Counter(list1)))\n",
        "\n",
        "print(dict(Counter(list1)))\n",
        "\n",
        "print(set(Counter(list1)))\n",
        "\n",
        "print(Counter(list1).most_common())"
      ],
      "metadata": {
        "colab": {
          "base_uri": "https://localhost:8080/"
        },
        "id": "Xp5iYSmfzbkb",
        "outputId": "0943b2bf-b70d-4087-ee89-f4ae895da6ef"
      },
      "execution_count": 9,
      "outputs": [
        {
          "output_type": "stream",
          "name": "stdout",
          "text": [
            "[1, 2, 10, 4]\n",
            "{1: 4, 2: 2, 10: 3, 4: 1}\n",
            "{1, 2, 10, 4}\n",
            "[(1, 4), (10, 3), (2, 2), (4, 1)]\n"
          ]
        }
      ]
    }
  ]
}