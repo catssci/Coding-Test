{
  "nbformat": 4,
  "nbformat_minor": 0,
  "metadata": {
    "colab": {
      "provenance": [],
      "authorship_tag": "ABX9TyPqdekkXU8NlbO7tGgHXTx7",
      "include_colab_link": true
    },
    "kernelspec": {
      "name": "python3",
      "display_name": "Python 3"
    },
    "language_info": {
      "name": "python"
    }
  },
  "cells": [
    {
      "cell_type": "markdown",
      "metadata": {
        "id": "view-in-github",
        "colab_type": "text"
      },
      "source": [
        "<a href=\"https://colab.research.google.com/github/catssci/Coding-Test/blob/main/Tips/%EC%9E%90%EB%A3%8C%EA%B5%AC%EC%A1%B0/deque.ipynb\" target=\"_parent\"><img src=\"https://colab.research.google.com/assets/colab-badge.svg\" alt=\"Open In Colab\"/></a>"
      ]
    },
    {
      "cell_type": "code",
      "execution_count": 1,
      "metadata": {
        "id": "Rr8sRoNsbGVt",
        "colab": {
          "base_uri": "https://localhost:8080/"
        },
        "outputId": "2367fc90-c586-4d54-847e-b765a1078b8a"
      },
      "outputs": [
        {
          "output_type": "stream",
          "name": "stdout",
          "text": [
            "deque(['Pancake #1', 'Pancake #2', 'Pancake #3'])\n",
            "deque(['Pancake #1', 'Pancake #2'])\n"
          ]
        }
      ],
      "source": [
        "from collections import deque\n",
        "\n",
        "pancakeStack = deque()\n",
        "\n",
        "# element 삽입\n",
        "pancakeStack.append('Pancake #1')\n",
        "pancakeStack.append('Pancake #2')\n",
        "pancakeStack.append('Pancake #3')\n",
        "print(pancakeStack) #deque(['Pancake #1', 'Pancake #2', 'Pancake #3'])\n",
        "\n",
        "# element 삭제\n",
        "pancakeStack.pop()\n",
        "\n",
        "print(pancakeStack) #deque(['Pancake #1', 'Pancake #2']) > LIFO로 동작하는 걸 볼 수 있다."
      ]
    },
    {
      "cell_type": "code",
      "source": [
        "from collections import deque\n",
        "\n",
        "ticket_queue = deque()\n",
        "\n",
        "# element 삽입\n",
        "ticket_queue.append('Customer # 1')\n",
        "ticket_queue.append('Customer # 2')\n",
        "ticket_queue.append('Customer # 3')\n",
        "\n",
        "print(ticket_queue) #deque(['Customer # 1', 'Customer # 2', 'Customer # 3'])\n",
        "\n",
        "# element 삭제\n",
        "print(ticket_queue.popleft()) #Customer # 1\n",
        "ticket_queue.popleft() # 'Customer #2 삭제'\n",
        "\n",
        "print(ticket_queue) #deque(['Customer # 3'])"
      ],
      "metadata": {
        "colab": {
          "base_uri": "https://localhost:8080/"
        },
        "id": "L2kQv48Bqbzk",
        "outputId": "d506a399-c2bf-4a1e-95c7-53769b78afe0"
      },
      "execution_count": 2,
      "outputs": [
        {
          "output_type": "stream",
          "name": "stdout",
          "text": [
            "deque(['Customer # 1', 'Customer # 2', 'Customer # 3'])\n",
            "Customer # 1\n",
            "deque(['Customer # 3'])\n"
          ]
        }
      ]
    }
  ]
}