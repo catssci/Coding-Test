{
  "nbformat": 4,
  "nbformat_minor": 0,
  "metadata": {
    "colab": {
      "provenance": [],
      "authorship_tag": "ABX9TyPdeugNnODtHwH26dOVP44r",
      "include_colab_link": true
    },
    "kernelspec": {
      "name": "python3",
      "display_name": "Python 3"
    },
    "language_info": {
      "name": "python"
    }
  },
  "cells": [
    {
      "cell_type": "markdown",
      "metadata": {
        "id": "view-in-github",
        "colab_type": "text"
      },
      "source": [
        "<a href=\"https://colab.research.google.com/github/catssci/Coding-Test/blob/main/Tips/%EB%B3%80%EC%88%98%20%ED%83%80%EC%9E%85/string_startwith_endwith.ipynb\" target=\"_parent\"><img src=\"https://colab.research.google.com/assets/colab-badge.svg\" alt=\"Open In Colab\"/></a>"
      ]
    },
    {
      "cell_type": "code",
      "execution_count": 1,
      "metadata": {
        "id": "KDM1B91jUDRP",
        "colab": {
          "base_uri": "https://localhost:8080/"
        },
        "outputId": "fc23786e-4ac6-44ec-fd11-f8636d546744"
      },
      "outputs": [
        {
          "output_type": "stream",
          "name": "stdout",
          "text": [
            "Hello, world! starts with Hello\n"
          ]
        }
      ],
      "source": [
        "string = \"Hello, world!\"\n",
        "prefix = \"Hello\"\n",
        "\n",
        "if string.startswith(prefix):\n",
        "    print(f\"{string} starts with {prefix}\")\n",
        "else:\n",
        "    print(f\"{string} does not start with {prefix}\")\n"
      ]
    },
    {
      "cell_type": "code",
      "source": [
        "string = \"Hello, world!\"\n",
        "suffix = \"world!\"\n",
        "\n",
        "if string.endswith(suffix):\n",
        "    print(f\"{string} ends with {suffix}\")\n",
        "else:\n",
        "    print(f\"{string} does not end with {suffix}\")"
      ],
      "metadata": {
        "id": "_zKWKbaFUMGP",
        "colab": {
          "base_uri": "https://localhost:8080/"
        },
        "outputId": "d2b7c105-9879-4f85-8975-f892b541b914"
      },
      "execution_count": 2,
      "outputs": [
        {
          "output_type": "stream",
          "name": "stdout",
          "text": [
            "Hello, world! ends with world!\n"
          ]
        }
      ]
    },
    {
      "cell_type": "code",
      "source": [],
      "metadata": {
        "id": "QheTPLqaUwBy"
      },
      "execution_count": null,
      "outputs": []
    }
  ]
}