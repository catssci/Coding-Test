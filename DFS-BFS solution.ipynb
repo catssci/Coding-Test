{
  "nbformat": 4,
  "nbformat_minor": 0,
  "metadata": {
    "colab": {
      "name": "실전 문제 (풀이).ipynb",
      "provenance": [],
      "collapsed_sections": [],
      "authorship_tag": "ABX9TyP0SEhjq3G3Zwy0ehUjdEZ+",
      "include_colab_link": true
    },
    "kernelspec": {
      "name": "python3",
      "display_name": "Python 3"
    },
    "language_info": {
      "name": "python"
    }
  },
  "cells": [
    {
      "cell_type": "markdown",
      "metadata": {
        "id": "view-in-github",
        "colab_type": "text"
      },
      "source": [
        "<a href=\"https://colab.research.google.com/github/TaeGongKim/Coding-Test/blob/main/DFS-BFS%20solution.ipynb\" target=\"_parent\"><img src=\"https://colab.research.google.com/assets/colab-badge.svg\" alt=\"Open In Colab\"/></a>"
      ]
    },
    {
      "cell_type": "markdown",
      "metadata": {
        "id": "GmIzlIS_W96k"
      },
      "source": [
        "# 01. 특정 거리의 도시 찾기"
      ]
    },
    {
      "cell_type": "code",
      "metadata": {
        "id": "r7xZkKcCbLoW"
      },
      "source": [
        "# 문제 : https://www.acmicpc.net/problem/18352"
      ],
      "execution_count": null,
      "outputs": []
    },
    {
      "cell_type": "code",
      "metadata": {
        "id": "4UcmP18lXK-g"
      },
      "source": [
        "from collections import deque\n",
        "\n",
        "# 도시의 개수, 도로의 개수, 거리 정보, 출발 도시 번호\n",
        "n, m, k, x = map(int, input().split())\n",
        "graph = [[] for _ in range(n + 1)]\n",
        "\n",
        "# 모든 도로 정보 입력 받기\n",
        "# Adjacent List 형태\n",
        "for _ in range(m):\n",
        "    a, b = map(int, input().split())\n",
        "    graph[a].append(b)\n",
        "    \n",
        "# 모드 도시에 대한 최단 거리 초기화\n",
        "distance = [-1] * (n + 1)\n",
        "distance[x] = 0\n",
        "\n",
        "# BFS 수행\n",
        "q = deque([x])\n",
        "while q:\n",
        "    now = q.popleft()\n",
        "    # 현재 도시에서 이동할 수 있는 모든 도시를 확인\n",
        "    for next_node in graph[now]:\n",
        "        # 아직 방문하지 않은 도시라면\n",
        "        if distance[next_node] == -1:\n",
        "            # 최단 거리 갱신\n",
        "            distance[next_node] = distance[now] + 1\n",
        "            q.append(next_node)\n",
        "     \n",
        "# 최단 거리가 K인 모든 도시의 번호를 오름차순으로 출력\n",
        "check = False\n",
        "for i in range(1, n + 1):\n",
        "    if distance[i] == k:\n",
        "        print(i)\n",
        "        check = True\n",
        "        \n",
        "# 만약 최단 거리가 k인 도시가 없다면 -1 출력\n",
        "if check == False:\n",
        "    print(-1)"
      ],
      "execution_count": null,
      "outputs": []
    },
    {
      "cell_type": "markdown",
      "metadata": {
        "id": "vVTzZ6KbaCNb"
      },
      "source": [
        "> 모든 도시에서 연결되는 도로의 정보를 adjacent list 형태로 저장한다. 도시의 방문을 중복으로 허용하지 않으므로 distance 배열의 -1 값을 방문의 유무로 판단한다. 이를 통하여 방문을 하지 않았다면 현재 노드까지의 도시 방문 수 + 1을 해주어 방문까지의 거리를 저장한다."
      ]
    },
    {
      "cell_type": "markdown",
      "metadata": {
        "id": "TZ_NbCvKbAxn"
      },
      "source": [
        "# 02. 연구소"
      ]
    },
    {
      "cell_type": "code",
      "metadata": {
        "id": "rVxy-whqows7"
      },
      "source": [
        "# https://www.acmicpc.net/problem/14502"
      ],
      "execution_count": null,
      "outputs": []
    },
    {
      "cell_type": "code",
      "metadata": {
        "id": "6MmFK2pbbV1h"
      },
      "source": [
        "n, m = map(int, input().split())\n",
        "data = []\n",
        "temp = [[0] * m for _ in range(n)]\n",
        "\n",
        "for _ in range(n):\n",
        "  data.append(list(map(int, input().split())))\n",
        "\n",
        "dx = [-1, 0, 1, 0]\n",
        "dy = [0, 1, 0, -1]\n",
        "\n",
        "result = 0\n",
        "\n",
        "# DFS를 이용하여 각 바이러스가 사방으로 퍼지도록 하기\n",
        "def virus(x, y):\n",
        "  for i in range(4):\n",
        "    nx = x + dx[i]\n",
        "    ny = y + dy[i]\n",
        "\n",
        "    if nx >= 0 and nx < n and ny >= 0 and ny < m:\n",
        "      if temp[nx][ny] == 0:\n",
        "        # 해당 위치에 바이러스 배치, 다시 재귀적으로 수행\n",
        "        temp[nx][ny] = 2\n",
        "        virus(nx, ny)\n",
        "\n",
        "# 현재 맵에서 안전 영역의 크기를 계산하는 메서드\n",
        "def get_score():\n",
        "  score = 0\n",
        "  for i in range(n):\n",
        "    for j in range(m):\n",
        "      if temp[i][j] == 0:\n",
        "        score += 1\n",
        "  return score\n",
        "\n",
        "# DFS를 이용해 울타리를 설치하면서, 매번 안전 영역의 크기 계산\n",
        "def dfs(count):\n",
        "  global result\n",
        "  # 울타리가 3개 설치된 경우\n",
        "  if count == 3:\n",
        "    for i in range(n):\n",
        "      for j in range(m):\n",
        "        temp[i][j] = data[i][j]\n",
        "    #  각 바이러스의 위치에서 전파 진행\n",
        "    for i in range(n):\n",
        "      for j in range(m):\n",
        "        if temp[i][j] == 2:\n",
        "          virus(i, j)\n",
        "    # 안전 영역의 최댓값 계산\n",
        "    result = max(result, get_score())\n",
        "    return \n",
        "  # 빈 공간에 울타리 설치\n",
        "  for i in range(n):\n",
        "    for j in range(m):\n",
        "      if data[i][j] == 0:\n",
        "        data[i][j] = 1\n",
        "        count += 1\n",
        "        dfs(count)\n",
        "        data[i][j] = 0\n",
        "        count -= 1\n",
        "\n",
        "dfs(0)\n",
        "print(result)"
      ],
      "execution_count": null,
      "outputs": []
    },
    {
      "cell_type": "markdown",
      "metadata": {
        "id": "qtYzk-rcnrpA"
      },
      "source": [
        "> 벽을 3개 설치하는 경우의 수는 가장 큰 전체 맵의 크기가 64칸이므로 64C3 으로 100,000보다 작다. 따라서 벽을 설치하는 모든 경우의 맵에서 DFS 또는 BFS를 사용하여 바이러스를 전파하는 시뮬레이션을 진행한다.  \n",
        "\n",
        "> temp 변수에는 기존 맵에서 벽을 추가하고 바이러스를 퍼트리는 과정을 저장하는 변수로 사용하고, 이렇게 완성된 temp 맵에서 안전한 구역의 개수를 get_score 메소드를 이용하여 계산한다. dfs를 이용하여 재귀적으로 구현을 하는데, 이때 조합 메소드를 사용하지 않고도 위처럼 재귀의 특성을 이용하면 간단히 구현할 수 있다."
      ]
    },
    {
      "cell_type": "markdown",
      "metadata": {
        "id": "vEbihTjYqC75"
      },
      "source": [
        "# 03. 경쟁적 전염"
      ]
    },
    {
      "cell_type": "code",
      "metadata": {
        "id": "NqRHXMB0rlPY"
      },
      "source": [
        "# https://www.acmicpc.net/problem/18405"
      ],
      "execution_count": null,
      "outputs": []
    },
    {
      "cell_type": "code",
      "metadata": {
        "id": "snVmyfZwqGhn"
      },
      "source": [
        "from collections import deque\n",
        "\n",
        "n, k = map(int, input().split())\n",
        "\n",
        "# 전체 보드 정보를 담는 리스트\n",
        "graph = []\n",
        "# 바이러스에 대한 정보를 담는 리스트\n",
        "data = []\n",
        "\n",
        "for i in range(n):\n",
        "  # 보드 정보를 한 줄 단위로 입력\n",
        "  graph.append(list(map(int, input().split())))\n",
        "  for j in range(n):\n",
        "    # 해당 위치에 바이러스가 존재하는 경우\n",
        "    if graph[i][j] != 0:\n",
        "      # 바이러스 종류, 시간, 위치 x, y 를 삽입\n",
        "      data.append((graph[i][j], 0, i, j))\n",
        "\n",
        "# 정렬 이후에 큐로 옮기기 (낮은 번호의 바이러스가 먼저 증식)\n",
        "data.sort()\n",
        "q = deque(data)\n",
        "\n",
        "target_s, target_x, target_y = map(int, input().split())\n",
        "\n",
        "dx = [-1, 0, 1, 0]\n",
        "dy = [0, 1, 0, -1]\n",
        "\n",
        "# BFS\n",
        "while q:\n",
        "  virus, s, x, y = q.popleft()\n",
        "\n",
        "  # s초가 지나거나, 큐가 빌 때까지 반복\n",
        "  if s == target_s:\n",
        "    break\n",
        "\n",
        "  for i in range(4):\n",
        "    nx = x + dx[i]\n",
        "    ny = y + dy[i]\n",
        "\n",
        "    # 해당 위치로 이동할 수 있는 경우\n",
        "    if 0 <= nx and nx < n and 0 <=ny and ny < n:\n",
        "      # 아직 방문하지 않은 위치라면, 그 위치에 바이러스 넣기\n",
        "      if graph[nx][ny] == 0:\n",
        "        graph[nx][ny] = virus\n",
        "        q.append((virus, s + 1, nx, ny))\n",
        "\n",
        "print(graph[target_x - 1][target_y - 1])"
      ],
      "execution_count": null,
      "outputs": []
    },
    {
      "cell_type": "markdown",
      "metadata": {
        "id": "qf5nk2qeuK_S"
      },
      "source": [
        "> bfs를 이용하여 문제를 해결한다. 바이러스가 낮은 번호부터 증식하므로 바이러스의 정보를 큐에 저장 할 때 오름차순으로 정렬 한 후, 큐에 초기 바이러스 정보를 삽입한다."
      ]
    },
    {
      "cell_type": "markdown",
      "metadata": {
        "id": "drVrE00Wun3u"
      },
      "source": [
        "# 04. 괄호 변환"
      ]
    },
    {
      "cell_type": "code",
      "metadata": {
        "id": "oQCmiQqhDBOi"
      },
      "source": [
        "# https://programmers.co.kr/learn/courses/30/lessons/60058"
      ],
      "execution_count": null,
      "outputs": []
    },
    {
      "cell_type": "code",
      "metadata": {
        "id": "RMh7dYJzDHUQ"
      },
      "source": [
        "# '균형잡힌 괄호 문자열'의 인덱스 변환\n",
        "def balanced_index(p):\n",
        "    count = 0\n",
        "    for i in range(len(p)):\n",
        "        if p[i] == '(':\n",
        "            count += 1\n",
        "        else:\n",
        "            count -= 1\n",
        "        \n",
        "        if count == 0:\n",
        "            return i\n",
        "\n",
        "# '올바른 괄호 문자열'인지 판단\n",
        "def check_proper(p):\n",
        "    count = 0\n",
        "    for i in p:\n",
        "        if i == '(':\n",
        "            count += 1\n",
        "        else:\n",
        "            if count == 0:\n",
        "                return False\n",
        "            count -= 1\n",
        "    return True\n",
        "\n",
        "def solution(p):\n",
        "    answer = ''\n",
        "    if p == '':\n",
        "        return answer\n",
        "    index = balanced_index(p)\n",
        "    \n",
        "    u = p[:index + 1]\n",
        "    v = p[index + 1:]\n",
        "    \n",
        "    if check_proper(u):\n",
        "        answer = u + solution(v)\n",
        "    else:\n",
        "        answer = '('\n",
        "        answer += solution(v)\n",
        "        answer += ')'\n",
        "        u = list(u[1:-1])\n",
        "        for i in range(len(u)):\n",
        "            if u[i] == '(':\n",
        "                u[i] = ')'\n",
        "            else:\n",
        "                u[i] = '('\n",
        "        answer += ''.join(u)\n",
        "    return answer"
      ],
      "execution_count": null,
      "outputs": []
    },
    {
      "cell_type": "markdown",
      "metadata": {
        "id": "2qtTmWybFJ5B"
      },
      "source": [
        "> 거의 구현 문제와 동일하다. 문제에 따라서 재귀함수를 순서대로 짠다면 구현할 수 있다. 특히 마지막 해석에서 괄호를 뒤집으라는 말이 순서를 반대로 돌려 출력하는 것이 아닌 '(' -> ')', ')' -> '(' 괄호의 값을 뒤집으라는 의미로 해석해야 한다."
      ]
    },
    {
      "cell_type": "markdown",
      "metadata": {
        "id": "vYnJXgsJFr05"
      },
      "source": [
        "# 05. 연산자 끼워 넣기"
      ]
    },
    {
      "cell_type": "code",
      "metadata": {
        "id": "umMYG0cXFw1Y"
      },
      "source": [
        "n = int(input())\n",
        "\n",
        "# 연산을 수행하고자 하는 수 리스트\n",
        "data = list(map(int, input().split()))\n",
        "# 더하기, 빼기, 곱하기, 나누기 연산자 개수\n",
        "add, sub, mul, div = map(int, input().split())\n",
        "\n",
        "# 최솟값, 최댓값 초기화\n",
        "min_value = 1e9\n",
        "max_value = -1e9\n",
        "\n",
        "# DFS 메서드\n",
        "def dfs(i, now):\n",
        "  global min_value, max_value, add, sub, mul, div\n",
        "  # 모든 연산자를 다 사용한 경우, 최솟값과 최댓값 업데이트\n",
        "  if i == n:\n",
        "    min_value = min(min_value, now)\n",
        "    max_value = max(max_value, now)\n",
        "  else:\n",
        "    # 각 연산자에 대하여 재귀적으로 수행\n",
        "    if add > 0:\n",
        "      add -= 1\n",
        "      dfs(i + 1, now + data[i])\n",
        "      add += 1\n",
        "    if sub > 0:\n",
        "      sub -= 1\n",
        "      dfs(i + 1, now - data[i])\n",
        "      sub += 1\n",
        "    if mul > 0:\n",
        "      mul -= 1\n",
        "      dfs(i + 1, now * data[i])\n",
        "      mul += 1\n",
        "    if div > 0:\n",
        "      div -= 1\n",
        "      dfs(i + 1, int(now / data[i]))\n",
        "      div += 1\n",
        "\n",
        "dfs(1, data[0])\n",
        "\n",
        "print(max_value)\n",
        "print(min_value)"
      ],
      "execution_count": null,
      "outputs": []
    },
    {
      "cell_type": "markdown",
      "metadata": {
        "id": "wEPtmpo9HYQ6"
      },
      "source": [
        "> 연산자가 나열될수 있는 모든 경우의 수를 계산하면 문제를 해결할 수 있다. 따라서 완전 탐색 문제로 이 경우에는 DFS 로 구현하였다. DFS는 모든 경우의 수를 나열 할 수 없을 때 재귀적 방법을 통하여 구현할 수 있다. 특히 연산자를 나열하는 코드에서 재귀 함수에 들어가기전에는 연산자의 개수를 줄이고, 다시 나오면 더해줌으로써 중복 순열을 사용하지 않고도 같은 효과를 낼 수 있었다."
      ]
    },
    {
      "cell_type": "markdown",
      "metadata": {
        "id": "KKDZeFa1IO4L"
      },
      "source": [
        "# 06. 감시 피하기\n"
      ]
    },
    {
      "cell_type": "code",
      "metadata": {
        "id": "gcjwGluoIYhM"
      },
      "source": [
        "from itertools import combinations\n",
        "\n",
        "n = int(input())\n",
        "board = []\n",
        "teachers = []\n",
        "spaces = []\n",
        "\n",
        "for i in range(n):\n",
        "  board.append(list(input().split()))\n",
        "  for j in range(n):\n",
        "    if board[i][j] == 'T':\n",
        "      teachers.append((i, j))\n",
        "    if board[i][j] == 'X':\n",
        "      spaces.append((i, j))\n",
        "\n",
        "# 특정 방향으로 감시를 진행\n",
        "def watch(x, y, direction):\n",
        "  if direction == 0:\n",
        "    while y >= 0:\n",
        "      if board[x][y] == 'S':\n",
        "        return True\n",
        "      if board[x][y] == 'O':\n",
        "        return False\n",
        "      y -= 1\n",
        "  if direction == 1:\n",
        "    while y < n:\n",
        "      if board[x][y] == 'S':\n",
        "        return True\n",
        "      if board[x][y] == 'O':\n",
        "        return False\n",
        "      y += 1\n",
        "  if direction == 2:\n",
        "    while x >= 0:\n",
        "      if board[x][y] == 'S':\n",
        "        return True\n",
        "      if board[x][y] == 'O':\n",
        "        return False\n",
        "      x -= 1\n",
        "  if direction == 3:\n",
        "    while x < n:\n",
        "      if board[x][y] == 'S':\n",
        "        return True\n",
        "      if board[x][y] == 'O':\n",
        "        return False\n",
        "      x += 1\n",
        "  return False\n",
        "\n",
        "# 장애물 설치 이후에, 한 명이라도 학생이 감지되는지 검사\n",
        "def process():\n",
        "  for x, y in teachers:\n",
        "    for i in range(4):\n",
        "      if watch(x, y, i):\n",
        "        return True\n",
        "  return False\n",
        "\n",
        "# 학생이 한 명도 감지되지 않도록 설치할 수 있는지의 여부\n",
        "find = False\n",
        "\n",
        "# 빈 공간에서 3개를 뽑는 모든 조합을 확인\n",
        "for data in combinations(spaces, 3):\n",
        "  for x, y in data:\n",
        "    board[x][y] = 'O'\n",
        "  if not process():\n",
        "    find = True\n",
        "    break\n",
        "  # 설치된 장애물 다시 없애기\n",
        "  for x, y in data:\n",
        "    board[x][y] = 'X'\n",
        "\n",
        "if find:\n",
        "  print('YES')\n",
        "else:\n",
        "  print('NO')"
      ],
      "execution_count": null,
      "outputs": []
    },
    {
      "cell_type": "markdown",
      "metadata": {
        "id": "psu0K6RlLT50"
      },
      "source": [
        "> 장애물을 설치하는 모든 경우의 수를 비교하며 완전 탐색 방법으로(dfs, bfs) 할 수 있다. 이번에는 장애물을 설치하는 모든 경우의 수를 조합 메소드를 사용하여 구현을 했다."
      ]
    },
    {
      "cell_type": "markdown",
      "metadata": {
        "id": "B-7IW-AMMY2C"
      },
      "source": [
        "# 07. 인구 이동"
      ]
    },
    {
      "cell_type": "code",
      "metadata": {
        "id": "BfdaDzFKGKQX"
      },
      "source": [
        "# https://www.acmicpc.net/problem/16234"
      ],
      "execution_count": 16,
      "outputs": []
    },
    {
      "cell_type": "code",
      "metadata": {
        "id": "gzDYigIcN-KK"
      },
      "source": [
        "from collections import deque\n",
        "\n",
        "n, l, r = map(int, input().split())\n",
        "\n",
        "graph = []\n",
        "for _ in range(n):\n",
        "  graph.append(list(map(int, input().split())))\n",
        "\n",
        "dx = [-1, 0, 1, 0]\n",
        "dy = [0, -1, 0, 1]\n",
        "\n",
        "result = 0\n",
        "\n",
        "# 특정 위치에서 출발하여 모든 연합을 체크한 뒤에 데이터 갱신\n",
        "def process(x, y, index):\n",
        "  # (x, y) 위치와 연결된 연합 정볼르 담는 리스트\n",
        "  united = []\n",
        "  united.append((x, y))\n",
        "\n",
        "  q = deque()\n",
        "  q.append((x, y))\n",
        "\n",
        "  union[x][y] = index\n",
        "  summary = graph[x][y]\n",
        "  count = 1\n",
        "\n",
        "  while q:\n",
        "    x, y = q.popleft()\n",
        "    for i in range(4):\n",
        "      nx = x + dx[i]\n",
        "      ny = y + dy[i]\n",
        "\n",
        "      if 0 <= nx < n and 0 <= ny < n and union[nx][ny] == -1:\n",
        "        if l <= abs(graph[nx][ny] - graph[x][y]) <= r:\n",
        "          q.append((nx, ny))\n",
        "          union[nx][ny] = index\n",
        "          summary += graph[nx][ny]\n",
        "          count += 1\n",
        "          united.append((nx, ny))\n",
        "\n",
        "  for i, j in united:\n",
        "    graph[i][j] = summary // count\n",
        "  return count\n",
        "\n",
        "total_count = 0\n",
        "\n",
        "while True:\n",
        "  union = [[-1] * n for _ in range(n)]\n",
        "  index = 0\n",
        "  for i in range(n):\n",
        "    for j in range(n):\n",
        "      if union[i][j] == -1:\n",
        "        process(i, j, index)\n",
        "        index += 1\n",
        "  if index == n * n:\n",
        "    break\n",
        "  total_count += 1\n",
        "\n",
        "print(total_count)"
      ],
      "execution_count": null,
      "outputs": []
    },
    {
      "cell_type": "markdown",
      "metadata": {
        "id": "qgNRaeLiBXOE"
      },
      "source": [
        "> union 배열을 만들어서 각 나라별로 방문 여부를 확인하였다. 또한 인구를 이동 시키는 과정을 반복하면서 모든 도시가 이동하지 않을 때 종료 시킨다. 이를 컨트롤 하는 조건이 index 변수이고 이 index 변수가 n^2 으로 계산된다면 모든 도시에서 인구 이동이 안된다는 결론을 얻을 수 있다."
      ]
    },
    {
      "cell_type": "markdown",
      "metadata": {
        "id": "6-Ar2OVjDQM4"
      },
      "source": [
        "# 08. 블록 이동하기"
      ]
    },
    {
      "cell_type": "code",
      "metadata": {
        "id": "wL0o3xEGGJjJ"
      },
      "source": [
        "# https://programmers.co.kr/learn/courses/30/lessons/60063"
      ],
      "execution_count": 17,
      "outputs": []
    },
    {
      "cell_type": "code",
      "metadata": {
        "id": "MIQZ_pYwGPQ1"
      },
      "source": [
        "from collections import deque\n",
        "\n",
        "def get_next_pos(pos, board):\n",
        "    next_pos = []\n",
        "    pos = list(pos)\n",
        "    pos1_x, pos1_y, pos2_x, pos2_y = pos[0][0], pos[0][1], pos[1][0], pos[1][1]\n",
        "    \n",
        "    dx = [-1, 1, 0, 0]\n",
        "    dy = [0, 0, -1, 1]\n",
        "    \n",
        "    for i in range(4):\n",
        "        pos1_next_x, pos1_next_y = pos1_x + dx[i], pos1_y + dy[i]\n",
        "        pos2_next_x, pos2_next_y = pos2_x + dx[i], pos2_y + dy[i]\n",
        "        \n",
        "        if board[pos1_next_x][pos1_next_y] == 0 and board[pos2_next_x][pos2_next_y] == 0:\n",
        "            next_pos.append({(pos1_next_x, pos1_next_y), (pos2_next_x, pos2_next_y)})\n",
        "            \n",
        "    # 현재 로봇이 가로로 놓여 있는 경우\n",
        "    if pos1_x == pos2_x:\n",
        "        for i in [-1, 1]:\n",
        "            # 위쪽 혹은 아래쪽 두 칸이 비어 있는 경우\n",
        "            if board[pos1_x + i][pos1_y] == 0 and board[pos2_x + i] [pos2_y] == 0:\n",
        "                next_pos.append({(pos1_x, pos1_y), (pos1_x + i, pos1_y)})\n",
        "                next_pos.append({(pos2_x, pos2_y), (pos2_x + i, pos2_y)})\n",
        "    # 현재 로봇이 세로로 놓여 있는 경우\n",
        "    elif pos1_y == pos2_y:\n",
        "        for i in [-1, 1]:\n",
        "            # 왼쪽 혹은 오른쪽 두 칸이 모두 비어 있는 경우\n",
        "            if board[pos1_x][pos1_y + i] == 0 and board[pos2_x][pos2_y + i] == 0:\n",
        "                next_pos.append({(pos1_x, pos1_y), (pos1_x, pos1_y + i)})\n",
        "                next_pos.append({(pos2_x, pos2_y), (pos2_x, pos2_y + i)})\n",
        "                \n",
        "    return next_pos\n",
        "\n",
        "def solution(board):\n",
        "    n = len(board)\n",
        "    new_board = [[1] * (n + 2) for _ in range(n + 2)]\n",
        "    for i in range(n):\n",
        "        for j in range(n):\n",
        "            new_board[i + 1][j + 1] = board[i][j]\n",
        "            \n",
        "    q = deque()\n",
        "    visited = []\n",
        "    pos = ((1, 1), (1, 2))\n",
        "    q.append((pos, 0))\n",
        "    visited.append(pos)\n",
        "    \n",
        "    while q:\n",
        "        pos, cost = q.popleft()\n",
        "        if (n, n) in pos:\n",
        "            return cost\n",
        "        \n",
        "        for next_pos in get_next_pos(pos, new_board):\n",
        "            if next_pos not in visited:\n",
        "                q.append((next_pos, cost + 1))\n",
        "                visited.append(next_pos)\n",
        "    return 0"
      ],
      "execution_count": null,
      "outputs": []
    },
    {
      "cell_type": "markdown",
      "metadata": {
        "id": "czwFeZA7hZ9V"
      },
      "source": [
        "> 일반적인 BFS 문제와 다른점은 로봇이 차지하고 있는 위치가 두 칸이며, 회전을 통한 이동도 가능하다는 것이다. 두 칸의 좌표를 튜플로 처리하여 구현할 수 있다. {(1, 1), (1, 2)} == {(1, 2), (1, 1)}\n",
        "\n",
        "> 로봇이 이동할 수 있는 방법으로는 크게 상하좌우와 회전하며 이동하는 방법으로 나눌 수 있고, 이 모든 경우를 get_next_pos 함수를 이용하여 체크하고 이동 한 좌표를 반환한다."
      ]
    }
  ]
}