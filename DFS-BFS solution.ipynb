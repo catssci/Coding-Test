{
  "nbformat": 4,
  "nbformat_minor": 0,
  "metadata": {
    "colab": {
      "name": "실전 문제 (풀이).ipynb",
      "provenance": [],
      "collapsed_sections": [],
      "authorship_tag": "ABX9TyMPDgw4iiNkK43K/ei4uAqf",
      "include_colab_link": true
    },
    "kernelspec": {
      "name": "python3",
      "display_name": "Python 3"
    },
    "language_info": {
      "name": "python"
    }
  },
  "cells": [
    {
      "cell_type": "markdown",
      "metadata": {
        "id": "view-in-github",
        "colab_type": "text"
      },
      "source": [
        "<a href=\"https://colab.research.google.com/github/TaeGongKim/Coding-Test/blob/main/DFS-BFS%20solution.ipynb\" target=\"_parent\"><img src=\"https://colab.research.google.com/assets/colab-badge.svg\" alt=\"Open In Colab\"/></a>"
      ]
    },
    {
      "cell_type": "markdown",
      "metadata": {
        "id": "GmIzlIS_W96k"
      },
      "source": [
        "# 01. 특정 거리의 도시 찾기"
      ]
    },
    {
      "cell_type": "code",
      "metadata": {
        "id": "r7xZkKcCbLoW"
      },
      "source": [
        "# 문제 : https://www.acmicpc.net/problem/18352"
      ],
      "execution_count": null,
      "outputs": []
    },
    {
      "cell_type": "code",
      "metadata": {
        "id": "4UcmP18lXK-g"
      },
      "source": [
        "from collections import deque\n",
        "\n",
        "# 도시의 개수, 도로의 개수, 거리 정보, 출발 도시 번호\n",
        "n, m, k, x = map(int, input().split())\n",
        "graph = [[] for _ in range(n + 1)]\n",
        "\n",
        "# 모든 도로 정보 입력 받기\n",
        "# Adjacent List 형태\n",
        "for _ in range(m):\n",
        "    a, b = map(int, input().split())\n",
        "    graph[a].append(b)\n",
        "    \n",
        "# 모드 도시에 대한 최단 거리 초기화\n",
        "distance = [-1] * (n + 1)\n",
        "distance[x] = 0\n",
        "\n",
        "# BFS 수행\n",
        "q = deque([x])\n",
        "while q:\n",
        "    now = q.popleft()\n",
        "    # 현재 도시에서 이동할 수 있는 모든 도시를 확인\n",
        "    for next_node in graph[now]:\n",
        "        # 아직 방문하지 않은 도시라면\n",
        "        if distance[next_node] == -1:\n",
        "            # 최단 거리 갱신\n",
        "            distance[next_node] = distance[now] + 1\n",
        "            q.append(next_node)\n",
        "     \n",
        "# 최단 거리가 K인 모든 도시의 번호를 오름차순으로 출력\n",
        "check = False\n",
        "for i in range(1, n + 1):\n",
        "    if distance[i] == k:\n",
        "        print(i)\n",
        "        check = True\n",
        "        \n",
        "# 만약 최단 거리가 k인 도시가 없다면 -1 출력\n",
        "if check == False:\n",
        "    print(-1)"
      ],
      "execution_count": null,
      "outputs": []
    },
    {
      "cell_type": "markdown",
      "metadata": {
        "id": "vVTzZ6KbaCNb"
      },
      "source": [
        "> 모든 도시에서 연결되는 도로의 정보를 adjacent list 형태로 저장한다. 도시의 방문을 중복으로 허용하지 않으므로 distance 배열의 -1 값을 방문의 유무로 판단한다. 이를 통하여 방문을 하지 않았다면 현재 노드까지의 도시 방문 수 + 1을 해주어 방문까지의 거리를 저장한다."
      ]
    },
    {
      "cell_type": "markdown",
      "metadata": {
        "id": "TZ_NbCvKbAxn"
      },
      "source": [
        "# 02. 연구소"
      ]
    },
    {
      "cell_type": "code",
      "metadata": {
        "id": "rVxy-whqows7"
      },
      "source": [
        "# https://www.acmicpc.net/problem/14502"
      ],
      "execution_count": null,
      "outputs": []
    },
    {
      "cell_type": "code",
      "metadata": {
        "id": "6MmFK2pbbV1h"
      },
      "source": [
        "n, m = map(int, input().split())\n",
        "data = []\n",
        "temp = [[0] * m for _ in range(n)]\n",
        "\n",
        "for _ in range(n):\n",
        "  data.append(list(map(int, input().split())))\n",
        "\n",
        "dx = [-1, 0, 1, 0]\n",
        "dy = [0, 1, 0, -1]\n",
        "\n",
        "result = 0\n",
        "\n",
        "# DFS를 이용하여 각 바이러스가 사방으로 퍼지도록 하기\n",
        "def virus(x, y):\n",
        "  for i in range(4):\n",
        "    nx = x + dx[i]\n",
        "    ny = y + dy[i]\n",
        "\n",
        "    if nx >= 0 and nx < n and ny >= 0 and ny < m:\n",
        "      if temp[nx][ny] == 0:\n",
        "        # 해당 위치에 바이러스 배치, 다시 재귀적으로 수행\n",
        "        temp[nx][ny] = 2\n",
        "        virus(nx, ny)\n",
        "\n",
        "# 현재 맵에서 안전 영역의 크기를 계산하는 메서드\n",
        "def get_score():\n",
        "  score = 0\n",
        "  for i in range(n):\n",
        "    for j in range(m):\n",
        "      if temp[i][j] == 0:\n",
        "        score += 1\n",
        "  return score\n",
        "\n",
        "# DFS를 이용해 울타리를 설치하면서, 매번 안전 영역의 크기 계산\n",
        "def dfs(count):\n",
        "  global result\n",
        "  # 울타리가 3개 설치된 경우\n",
        "  if count == 3:\n",
        "    for i in range(n):\n",
        "      for j in range(m):\n",
        "        temp[i][j] = data[i][j]\n",
        "    #  각 바이러스의 위치에서 전파 진행\n",
        "    for i in range(n):\n",
        "      for j in range(m):\n",
        "        if temp[i][j] == 2:\n",
        "          virus(i, j)\n",
        "    # 안전 영역의 최댓값 계산\n",
        "    result = max(result, get_score())\n",
        "    return \n",
        "  # 빈 공간에 울타리 설치\n",
        "  for i in range(n):\n",
        "    for j in range(m):\n",
        "      if data[i][j] == 0:\n",
        "        data[i][j] = 1\n",
        "        count += 1\n",
        "        dfs(count)\n",
        "        data[i][j] = 0\n",
        "        count -= 1\n",
        "\n",
        "dfs(0)\n",
        "print(result)"
      ],
      "execution_count": null,
      "outputs": []
    },
    {
      "cell_type": "markdown",
      "metadata": {
        "id": "qtYzk-rcnrpA"
      },
      "source": [
        "> 벽을 3개 설치하는 경우의 수는 가장 큰 전체 맵의 크기가 64칸이므로 64C3 으로 100,000보다 작다. 따라서 벽을 설치하는 모든 경우의 맵에서 DFS 또는 BFS를 사용하여 바이러스를 전파하는 시뮬레이션을 진행한다.  \n",
        "\n",
        "> temp 변수에는 기존 맵에서 벽을 추가하고 바이러스를 퍼트리는 과정을 저장하는 변수로 사용하고, 이렇게 완성된 temp 맵에서 안전한 구역의 개수를 get_score 메소드를 이용하여 계산한다. dfs를 이용하여 재귀적으로 구현을 하는데, 이때 조합 메소드를 사용하지 않고도 위처럼 재귀의 특성을 이용하면 간단히 구현할 수 있다."
      ]
    },
    {
      "cell_type": "markdown",
      "metadata": {
        "id": "vEbihTjYqC75"
      },
      "source": [
        "# 03. 경쟁적 전염"
      ]
    },
    {
      "cell_type": "code",
      "metadata": {
        "id": "NqRHXMB0rlPY"
      },
      "source": [
        "# https://www.acmicpc.net/problem/18405"
      ],
      "execution_count": null,
      "outputs": []
    },
    {
      "cell_type": "code",
      "metadata": {
        "id": "snVmyfZwqGhn"
      },
      "source": [
        "from collections import deque\n",
        "\n",
        "n, k = map(int, input().split())\n",
        "\n",
        "# 전체 보드 정보를 담는 리스트\n",
        "graph = []\n",
        "# 바이러스에 대한 정보를 담는 리스트\n",
        "data = []\n",
        "\n",
        "for i in range(n):\n",
        "  # 보드 정보를 한 줄 단위로 입력\n",
        "  graph.append(list(map(int, input().split())))\n",
        "  for j in range(n):\n",
        "    # 해당 위치에 바이러스가 존재하는 경우\n",
        "    if graph[i][j] != 0:\n",
        "      # 바이러스 종류, 시간, 위치 x, y 를 삽입\n",
        "      data.append((graph[i][j], 0, i, j))\n",
        "\n",
        "# 정렬 이후에 큐로 옮기기 (낮은 번호의 바이러스가 먼저 증식)\n",
        "data.sort()\n",
        "q = deque(data)\n",
        "\n",
        "target_s, target_x, target_y = map(int, input().split())\n",
        "\n",
        "dx = [-1, 0, 1, 0]\n",
        "dy = [0, 1, 0, -1]\n",
        "\n",
        "# BFS\n",
        "while q:\n",
        "  virus, s, x, y = q.popleft()\n",
        "\n",
        "  # s초가 지나거나, 큐가 빌 때까지 반복\n",
        "  if s == target_s:\n",
        "    break\n",
        "\n",
        "  for i in range(4):\n",
        "    nx = x + dx[i]\n",
        "    ny = y + dy[i]\n",
        "\n",
        "    # 해당 위치로 이동할 수 있는 경우\n",
        "    if 0 <= nx and nx < n and 0 <=ny and ny < n:\n",
        "      # 아직 방문하지 않은 위치라면, 그 위치에 바이러스 넣기\n",
        "      if graph[nx][ny] == 0:\n",
        "        graph[nx][ny] = virus\n",
        "        q.append((virus, s + 1, nx, ny))\n",
        "\n",
        "print(graph[target_x - 1][target_y - 1])"
      ],
      "execution_count": null,
      "outputs": []
    },
    {
      "cell_type": "markdown",
      "metadata": {
        "id": "qf5nk2qeuK_S"
      },
      "source": [
        "> bfs를 이용하여 문제를 해결한다. 바이러스가 낮은 번호부터 증식하므로 바이러스의 정보를 큐에 저장 할 때 오름차순으로 정렬 한 후, 큐에 초기 바이러스 정보를 삽입한다."
      ]
    },
    {
      "cell_type": "code",
      "metadata": {
        "id": "drVrE00Wun3u"
      },
      "source": [
        ""
      ],
      "execution_count": null,
      "outputs": []
    }
  ]
}