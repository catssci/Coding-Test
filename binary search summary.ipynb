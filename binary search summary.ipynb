{
  "nbformat": 4,
  "nbformat_minor": 0,
  "metadata": {
    "colab": {
      "name": "summary.ipynb",
      "provenance": [],
      "collapsed_sections": [],
      "authorship_tag": "ABX9TyPqDQW0MK8BzvjKpo8TM/ha",
      "include_colab_link": true
    },
    "kernelspec": {
      "name": "python3",
      "display_name": "Python 3"
    },
    "language_info": {
      "name": "python"
    }
  },
  "cells": [
    {
      "cell_type": "markdown",
      "metadata": {
        "id": "view-in-github",
        "colab_type": "text"
      },
      "source": [
        "<a href=\"https://colab.research.google.com/github/TaeGongKim/Coding-Test/blob/main/binary%20search%20summary.ipynb\" target=\"_parent\"><img src=\"https://colab.research.google.com/assets/colab-badge.svg\" alt=\"Open In Colab\"/></a>"
      ]
    },
    {
      "cell_type": "markdown",
      "metadata": {
        "id": "ERBV0Wzd9UEb"
      },
      "source": [
        "- 순차 탐색 : Sequential Search\n",
        "- 리스트 안에 있는 특정한 데이터를 찾기 위해 앞에서부터 데이터를 하나씩 차례대로 확인하는 방법\n",
        "- 보통 정렬되지 않은 리스트에서 데이터를 찾아야 할 때 사용\n",
        "- count() 메서드를 이용할 때도 내부에서는 순차 탐색이 수행된다.\n",
        "- 시간 복잡도 : O(N)"
      ]
    },
    {
      "cell_type": "code",
      "metadata": {
        "colab": {
          "base_uri": "https://localhost:8080/"
        },
        "id": "tujmyvqhWozB",
        "outputId": "f035f7e8-d1a3-4652-e7c7-7382d2d64169"
      },
      "source": [
        "def sequential_search(n, target, array):\n",
        "  for i in range(n):\n",
        "    if array[i] == target:\n",
        "      return i + 1\n",
        "\n",
        "print(\"생성할 원소 개수를 입력한 다음 한 칸 띄고 찾을 문자열을 입력하세요.\")\n",
        "input_data = input().split()\n",
        "n = int(input_data[0])\n",
        "target = input_data[1]\n",
        "\n",
        "print(\"앞서 적은 원소 개수만큼 문자열을 입력하세요. 구분은 띄어쓰기 한 칸으로 합니다.\")\n",
        "array = input().split()\n",
        "\n",
        "print(sequential_search(n, target, array))"
      ],
      "execution_count": null,
      "outputs": [
        {
          "output_type": "stream",
          "name": "stdout",
          "text": [
            "생성할 원소 개수를 입력한 다음 한 칸 띄고 찾을 문자열을 입력하세요.\n",
            "5 Dongbin\n",
            "앞서 적은 원소 개수만큼 문자열을 입력하세요. 구분은 띄어쓰기 한 칸으로 합니다.\n",
            "Hanul Jonggu Dongbin Taeil Sangwook\n",
            "3\n"
          ]
        }
      ]
    },
    {
      "cell_type": "markdown",
      "metadata": {
        "id": "oGNAC1ppXOQh"
      },
      "source": [
        "- 이진 탐색 : Binary Search\n",
        "- 찾으려는 데이터와 중간점 위치에 있는 데이터를 반복적으로 비교\n",
        "- 데이터가 무작위일 때는 사용할 수 없지만, 이미 정렬되어 있다면 매우 빠르게 데이터를 찾을 수 있다.\n",
        "- 시간 복잡도 : O(logN)"
      ]
    },
    {
      "cell_type": "code",
      "metadata": {
        "colab": {
          "base_uri": "https://localhost:8080/"
        },
        "id": "2Ww_ScOHXyh4",
        "outputId": "ffc26276-3ee4-4954-c320-4a79a3154a42"
      },
      "source": [
        "# 재귀 함수로 구현한 이진 탐색\n",
        "def binary_search(array, target, start, end):\n",
        "  if start > end:\n",
        "    return None\n",
        "  mid = (start + end) // 2\n",
        "  if array[mid] == target:\n",
        "    return mid\n",
        "  elif array[mid] > target:\n",
        "    return binary_search(array, target, start, mid - 1)\n",
        "  else:\n",
        "    return binary_search(array, target, mid + 1, end)\n",
        "\n",
        "n, target = list(map(int, input().split()))\n",
        "array = list(map(int, input().split()))\n",
        "\n",
        "result = binary_search(array, target, 0, n - 1)\n",
        "if result == None:\n",
        "  print(\"원소가 존재하지 않습니다.\")\n",
        "else:\n",
        "  print(result + 1)"
      ],
      "execution_count": null,
      "outputs": [
        {
          "output_type": "stream",
          "name": "stdout",
          "text": [
            "10 7\n",
            "1 3 5 6 9 11 13 15 17 19\n",
            "원소가 존재하지 않습니다.\n"
          ]
        }
      ]
    },
    {
      "cell_type": "code",
      "metadata": {
        "colab": {
          "base_uri": "https://localhost:8080/"
        },
        "id": "gIqwb6vBYsuN",
        "outputId": "c4ff24b4-8f16-4f62-a0c3-beb2820b3ef2"
      },
      "source": [
        "# 반복문으로 구현한 이진 탐색\n",
        "def binary_search(array, target, start, end):\n",
        "  while start <= end:\n",
        "    mid = (start + end) // 2\n",
        "    if array[mid] == target:\n",
        "      return mid\n",
        "    elif array[mid] > target:\n",
        "      end = mid - 1\n",
        "    else:\n",
        "      start = mid + 1\n",
        "  return None\n",
        "\n",
        "n, target = list(map(int, input().split()))\n",
        "array = list(map(int, input().split()))\n",
        "\n",
        "result = binary_search(array, target, 0, n - 1)\n",
        "if result == None:\n",
        "  print(\"원소가 존재하지 않습니다.\")\n",
        "else:\n",
        "  print(result + 1)"
      ],
      "execution_count": null,
      "outputs": [
        {
          "output_type": "stream",
          "name": "stdout",
          "text": [
            "10 7\n",
            "1 3 5 7 9 11 13 15 17 19\n",
            "4\n"
          ]
        }
      ]
    },
    {
      "cell_type": "markdown",
      "metadata": {
        "id": "R8afZQxrZVG5"
      },
      "source": [
        "- 트리 자료구조\n",
        "  - 트리는 부모 노드와 자식 노드의 관계로 표현된다.\n",
        "  - 트리의 최상단 노드를 루트 노드라고 한다.\n",
        "  - 트리의 최하단 노드를 단말 노드라고 한다.\n",
        "  - 트리에서 일부를 떼어내도 트리 구조이며 이를 서브 트리라 한다.\n",
        "  - 트리는 파일 시스템과 같이 계층적이고 정렬된 데이터를 다루기에 적합하다."
      ]
    },
    {
      "cell_type": "markdown",
      "metadata": {
        "id": "F43tWa8Afy3D"
      },
      "source": [
        "- 이진 탐색 트리\n",
        "  - 부모 노드보다 왼쪽 자식 노드가 작다.\n",
        "  - 부토 노드보다 오른쪽 자식 노드가 크다."
      ]
    },
    {
      "cell_type": "code",
      "metadata": {
        "colab": {
          "base_uri": "https://localhost:8080/"
        },
        "id": "dDvTdgpygDvd",
        "outputId": "06ec84da-3607-40ad-cb91-2b59c4ddfcf1"
      },
      "source": [
        "import sys\n",
        "\n",
        "input_data = sys.stdin.readline().rstrip()\n",
        "\n",
        "print(input_data)"
      ],
      "execution_count": null,
      "outputs": [
        {
          "output_type": "stream",
          "name": "stdout",
          "text": [
            "\n"
          ]
        }
      ]
    },
    {
      "cell_type": "markdown",
      "metadata": {
        "id": "YZWxy5Aumpg4"
      },
      "source": [
        "## 부품 찾기"
      ]
    },
    {
      "cell_type": "code",
      "metadata": {
        "colab": {
          "base_uri": "https://localhost:8080/"
        },
        "id": "tUOLGHrHKxuy",
        "outputId": "5382e1fa-ee64-44de-cb60-38c4d19a7a7e"
      },
      "source": [
        "n = int(input())\n",
        "data = list(map(int, input().split()))\n",
        "data.sort()\n",
        "\n",
        "m = int(input())\n",
        "orders = list(map(int, input().split()))\n",
        "\n",
        "def binary_search(array, target, start, end):\n",
        "  if start > end:\n",
        "    return None\n",
        "  mid = (start + end) // 2\n",
        "  if array[mid] == target:\n",
        "    return mid\n",
        "  elif array[mid] > target:\n",
        "    return binary_search(array, target, start, mid - 1)\n",
        "  else:\n",
        "    return binary_search(array, target, mid + 1, end)\n",
        "\n",
        "answer = []\n",
        "for order in orders:\n",
        "  if binary_search(data, order, 0, n - 1) == None:\n",
        "    answer.append('no')\n",
        "  else:\n",
        "    answer.append('yes')\n",
        "\n",
        "for ans in answer:\n",
        "  print(ans, end = ' ')"
      ],
      "execution_count": 3,
      "outputs": [
        {
          "output_type": "stream",
          "name": "stdout",
          "text": [
            "5\n",
            "8 3 7 9 2\n",
            "3\n",
            "5 7 9\n",
            "no yes yes "
          ]
        }
      ]
    },
    {
      "cell_type": "code",
      "metadata": {
        "colab": {
          "base_uri": "https://localhost:8080/"
        },
        "id": "0gZnyrG-MUVw",
        "outputId": "21766a5a-85e2-4ac3-fdfe-200db3bd796f"
      },
      "source": [
        "# 해설 (계수 정렬)\n",
        "n = int(input())\n",
        "array = [0] * 1000001\n",
        "for i in input().split():\n",
        "  array[int(i)] = 1\n",
        "\n",
        "m = int(input())\n",
        "orders = list(map(int, input().split()))\n",
        "\n",
        "for order in orders:\n",
        "  if array[order] == 1:\n",
        "    print('yes', end = ' ')\n",
        "  else:\n",
        "    print('no', end = ' ')"
      ],
      "execution_count": 6,
      "outputs": [
        {
          "output_type": "stream",
          "name": "stdout",
          "text": [
            "5\n",
            "8 3 7 9 2\n",
            "3\n",
            "5 7 9\n",
            "no yes yes "
          ]
        }
      ]
    },
    {
      "cell_type": "code",
      "metadata": {
        "colab": {
          "base_uri": "https://localhost:8080/"
        },
        "id": "qAO2E5nUOCxd",
        "outputId": "c239c7f4-a866-483b-c362-fe02f2c41862"
      },
      "source": [
        "# 해설 (집합 자료형 이용)\n",
        "n = int(input())\n",
        "array = set(map(int, input().split()))\n",
        "\n",
        "m = int(input())\n",
        "x = list(map(int, input().split()))\n",
        "\n",
        "for i in x:\n",
        "  if i in array:\n",
        "    print('yes', end = ' ')\n",
        "  else:\n",
        "    print('no', end = ' ')"
      ],
      "execution_count": 7,
      "outputs": [
        {
          "output_type": "stream",
          "name": "stdout",
          "text": [
            "4\n",
            "8 3 7 9\n",
            "3\n",
            "5 7 9\n",
            "no yes yes "
          ]
        }
      ]
    },
    {
      "cell_type": "markdown",
      "metadata": {
        "id": "z3F5hkgzOgEK"
      },
      "source": [
        "- 이러한 집합 자료형은 단순히 특정한 데이터가 존재하는지 검사할 때에 매우 효과적으로 사용할 수 있다."
      ]
    },
    {
      "cell_type": "markdown",
      "metadata": {
        "id": "21FhDVlFOxCd"
      },
      "source": [
        "## 떡볶이 떡 만들기"
      ]
    },
    {
      "cell_type": "code",
      "metadata": {
        "colab": {
          "base_uri": "https://localhost:8080/"
        },
        "id": "j74bMpWrO1KU",
        "outputId": "093e2a92-4785-4b6a-ebf6-06d41383779f"
      },
      "source": [
        "n, m = map(int, input().split())\n",
        "data = list(map(int, input().split()))\n",
        "\n",
        "def remainder(data, x):\n",
        "  ans = 0\n",
        "  for i in data:\n",
        "    if i > x:\n",
        "      ans += i - x\n",
        "  return ans\n",
        "\n",
        "def binary_search(array, target, start, end):\n",
        "  mid = (start + end) // 2\n",
        "  if start > end:\n",
        "    return mid\n",
        "  if remainder(array, mid) == target:\n",
        "    return mid\n",
        "  elif remainder(array, mid) > target:\n",
        "    return binary_search(array, target, mid + 1, end)\n",
        "  else:\n",
        "    return binary_search(array, target, start, mid - 1)\n",
        "\n",
        "print(binary_search(data, m, 0, max(data)))"
      ],
      "execution_count": 18,
      "outputs": [
        {
          "output_type": "stream",
          "name": "stdout",
          "text": [
            "4 6\n",
            "19 15 10 17\n",
            "15\n"
          ]
        }
      ]
    },
    {
      "cell_type": "markdown",
      "metadata": {
        "id": "3XMbR-81Q0YN"
      },
      "source": [
        "- 파라메트릭 서치 유형의 문제 : 최적화 문제를 결정 문제로 바꾸어 해결하는 기법, Parametric Search\n",
        "- 원하는 조건을 만족하는 가장 알맞은 값을 찾는 문제\n",
        "- 예를 들어, 범위 내에서 조건을 만족하는 가장 큰 값을 찾으라는 문제\n",
        "- 절단기의 높이 ~ 탐색 범위가 1~10억 까지의 정수 중 하나인데, 이처럼 큰 수를 보면 이진 탐색을 먼저 떠올려야 한다."
      ]
    },
    {
      "cell_type": "code",
      "metadata": {
        "colab": {
          "base_uri": "https://localhost:8080/"
        },
        "id": "2wcnge7qRWqw",
        "outputId": "2efabc1e-1de5-45d5-d175-bb72ca440e23"
      },
      "source": [
        "# 해설\n",
        "n, m = list(map(int, input().split(' ')))\n",
        "array = list(map(int, input().split()))\n",
        "\n",
        "start = 0\n",
        "end = max(array)\n",
        "\n",
        "result = 0\n",
        "while start <= end:\n",
        "  total = 0\n",
        "  mid = (start + end) // 2\n",
        "  for x in array:\n",
        "    if x > mid:\n",
        "      total += x - mid\n",
        "\n",
        "  if total < m:\n",
        "    end = mid - 1\n",
        "  else:\n",
        "    result = mid\n",
        "    start = mid + 1\n",
        "\n",
        "print(result)"
      ],
      "execution_count": 19,
      "outputs": [
        {
          "output_type": "stream",
          "name": "stdout",
          "text": [
            "4 6\n",
            "19 15 10 17\n",
            "15\n"
          ]
        }
      ]
    },
    {
      "cell_type": "code",
      "metadata": {
        "id": "vtBWiocCRYSM"
      },
      "source": [
        ""
      ],
      "execution_count": null,
      "outputs": []
    }
  ]
}