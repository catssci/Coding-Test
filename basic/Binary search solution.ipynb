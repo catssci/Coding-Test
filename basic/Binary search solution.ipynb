{
  "nbformat": 4,
  "nbformat_minor": 0,
  "metadata": {
    "colab": {
      "name": "기출 문제.ipynb",
      "provenance": [],
      "collapsed_sections": [],
      "authorship_tag": "ABX9TyMm2QMe2aC7794JF30fG2qV",
      "include_colab_link": true
    },
    "kernelspec": {
      "name": "python3",
      "display_name": "Python 3"
    },
    "language_info": {
      "name": "python"
    }
  },
  "cells": [
    {
      "cell_type": "markdown",
      "metadata": {
        "id": "view-in-github",
        "colab_type": "text"
      },
      "source": [
        "<a href=\"https://colab.research.google.com/github/TaeGongKim/Coding-Test/blob/main/Binary%20search%20solution.ipynb\" target=\"_parent\"><img src=\"https://colab.research.google.com/assets/colab-badge.svg\" alt=\"Open In Colab\"/></a>"
      ]
    },
    {
      "cell_type": "markdown",
      "metadata": {
        "id": "YS8CF--7UvkU"
      },
      "source": [
        "# 1. 정렬된 배열에서 특정 수의 개수 구하기"
      ]
    },
    {
      "cell_type": "code",
      "metadata": {
        "colab": {
          "base_uri": "https://localhost:8080/"
        },
        "id": "n2H7Bx1UU44a",
        "outputId": "a10e2ef3-7cf4-4dec-f38f-72a06f26352a"
      },
      "source": [
        "n, m = map(int, input().split())\n",
        "array = list(map(int, input().split()))\n",
        "\n",
        "def binary_search(array, target, start, end):\n",
        "  while start <= end:\n",
        "    mid = (start + end) // 2\n",
        "    if array[mid] == target:\n",
        "      return mid\n",
        "    elif array[mid] > target:\n",
        "      end = mid - 1\n",
        "    else:\n",
        "      start = mid + 1\n",
        "  return -1\n",
        "\n",
        "ans = 0\n",
        "mid = binary_search(array, m, 0, n - 1)\n",
        "if mid > 0:\n",
        "  ans += 1\n",
        "  for i in reversed(array[mid + 1:]):\n",
        "    if array[i] == m:\n",
        "      ans += 1\n",
        "    else:\n",
        "      break\n",
        "  for j in array[:mid]:\n",
        "    if array[j] == m:\n",
        "      ans += 1\n",
        "    else:\n",
        "      break\n",
        "  print(ans)\n",
        "else:\n",
        "  print(-1)"
      ],
      "execution_count": null,
      "outputs": [
        {
          "output_type": "stream",
          "name": "stdout",
          "text": [
            "7 4\n",
            "1 1 2 2 2 2 3\n",
            "-1\n"
          ]
        }
      ]
    },
    {
      "cell_type": "markdown",
      "metadata": {
        "id": "jSkTC4tFZDLN"
      },
      "source": [
        "# 2. 고정점 찾기"
      ]
    },
    {
      "cell_type": "code",
      "metadata": {
        "colab": {
          "base_uri": "https://localhost:8080/"
        },
        "id": "99HKOB1V9a_3",
        "outputId": "ec3a4ad5-b56e-455a-b054-5c1f63a85145"
      },
      "source": [
        "n = int(input())\n",
        "\n",
        "array = list(map(int, input().split()))\n",
        "\n",
        "start = 0\n",
        "end = n - 1\n",
        "\n",
        "def binary_search(array, start, end):\n",
        "  while start <= end:\n",
        "    mid = (start + end) // 2\n",
        "    if array[mid] == mid:\n",
        "      return mid\n",
        "    elif array[mid] > mid:\n",
        "      end = mid - 1\n",
        "    else:\n",
        "      start = mid + 1\n",
        "  return -1\n",
        "\n",
        "print(binary_search(array, start, end))"
      ],
      "execution_count": null,
      "outputs": [
        {
          "output_type": "stream",
          "name": "stdout",
          "text": [
            "7\n",
            "-15 -4 2 8 9 13 15\n",
            "2\n"
          ]
        }
      ]
    },
    {
      "cell_type": "markdown",
      "metadata": {
        "id": "4udFJhcN-8ju"
      },
      "source": [
        "# 3. 공유기 설치"
      ]
    },
    {
      "cell_type": "code",
      "metadata": {
        "id": "fFzrmTGC_8dQ"
      },
      "source": [
        "n, c = map(int, input().split())\n",
        "array = []\n",
        "\n",
        "for _ in range(n):\n",
        "  array.append(int(input()))\n",
        "array.sort()\n",
        "\n",
        "ans = (array[-1] - array[0]) // (c - 1)\n",
        "\n",
        "start = 0\n",
        "end = n - 1\n",
        "mid = (start + end) // 2\n",
        "array[mid] "
      ],
      "execution_count": null,
      "outputs": []
    },
    {
      "cell_type": "markdown",
      "metadata": {
        "id": "JsjSz9xuDsuB"
      },
      "source": [
        "# 4. 가사 검색"
      ]
    },
    {
      "cell_type": "code",
      "metadata": {
        "id": "r0zm0SQeDv6O"
      },
      "source": [
        "# https://programmers.co.kr/learn/courses/30/lessons/60060"
      ],
      "execution_count": null,
      "outputs": []
    },
    {
      "cell_type": "code",
      "metadata": {
        "id": "IZubc9jeDx7q"
      },
      "source": [
        "from bisect import bisect_left, bisect_right\n",
        "# bisect_left, bisect_right\n",
        "# 정렬된 순서를 유지하도록 a에 x를 삽입할 위치를 찾습니다\n",
        "\n",
        "def count_by_range(a, left_value, right_value):\n",
        "    right_index = bisect_right(a, right_value)\n",
        "    left_index = bisect_left(a, left_value)\n",
        "    return right_index - left_index\n",
        "\n",
        "# 모든 단어를 길이마다 나누어서 저장하기 위한 리스트\n",
        "array = [[] for _ in range(10001)]\n",
        "# 모든 단어를 길이마다 나누어서 뒤집어 저장하기 위한 리스트\n",
        "reversed_array = [[] for _ in range(10001)]\n",
        "\n",
        "def solution(words, queries):\n",
        "    answer = []\n",
        "    \n",
        "    for word in words:\n",
        "        array[len(word)].append(word)\n",
        "        reversed_array[len(word)].append(word[::-1])\n",
        "        \n",
        "    for i in range(10001):\n",
        "        array[i].sort()\n",
        "        reversed_array[i].sort()\n",
        "        \n",
        "    for q in queries:\n",
        "        if q[0] != '?':\n",
        "            res = count_by_range(array[len(q)], q.replace('?', 'a'), q.replace('?', 'z'))\n",
        "        else:\n",
        "            res = count_by_range(reversed_array[len(q)], q[::-1].replace('?', 'a'), q[::-1].replace('?', 'z'))\n",
        "        answer.append(res)\n",
        "    return answer"
      ],
      "execution_count": 1,
      "outputs": []
    },
    {
      "cell_type": "markdown",
      "metadata": {
        "id": "nBzVbLn_f1cg"
      },
      "source": [
        "- 단어의 길이가 다를 수 있으므로 단어의 길이별로 새로운 배열을 만들어 저장 한 후에 알고리즘을 구성한다.\n",
        "- 단어의 뒤에 붙는 ?는 a 또는 z로 변환하여 처음 단어 구간과 끝 단어 구간을 설정한 후 bisect를 이용하여 해당 문자열의 삽입 위치를 반환한다.\n",
        "- 단어의 앞에 붙는 ?는 단어를 거꾸로 변환하여 해결한다."
      ]
    },
    {
      "cell_type": "code",
      "metadata": {
        "id": "bdGmyktSguLG"
      },
      "source": [
        ""
      ],
      "execution_count": null,
      "outputs": []
    }
  ]
}
