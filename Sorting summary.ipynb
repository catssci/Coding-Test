{
  "nbformat": 4,
  "nbformat_minor": 0,
  "metadata": {
    "colab": {
      "name": "Introduction.ipynb",
      "provenance": [],
      "collapsed_sections": [],
      "authorship_tag": "ABX9TyNmUu4U+hYXPBI6Q854Xqf3",
      "include_colab_link": true
    },
    "kernelspec": {
      "name": "python3",
      "display_name": "Python 3"
    },
    "language_info": {
      "name": "python"
    }
  },
  "cells": [
    {
      "cell_type": "markdown",
      "metadata": {
        "id": "view-in-github",
        "colab_type": "text"
      },
      "source": [
        "<a href=\"https://colab.research.google.com/github/TaeGongKim/Coding-Test/blob/main/Sorting%20summary.ipynb\" target=\"_parent\"><img src=\"https://colab.research.google.com/assets/colab-badge.svg\" alt=\"Open In Colab\"/></a>"
      ]
    },
    {
      "cell_type": "markdown",
      "metadata": {
        "id": "FsEA6irzinFL"
      },
      "source": [
        "- 정렬 : sorting, 데이터를 특정한 기준에 따라서 순서대로 나열\n",
        "- 이진 탐색의 전처리 과정\n",
        "- 선택 정렬, 삽입 정렬, 퀵 정렬, 계수 정렬 등..\n",
        "- 파이썬에서 제공하는 기본 정렬 라이브러리를 적용하여 좀 더 횩과적인 정렬 수행 가능"
      ]
    },
    {
      "cell_type": "markdown",
      "metadata": {
        "id": "DfHW5vMLj7bu"
      },
      "source": [
        "# 선택 정렬"
      ]
    },
    {
      "cell_type": "markdown",
      "metadata": {
        "id": "M7Qxp0mOkANq"
      },
      "source": [
        "- selection sort algorithm\n",
        "- 데이터가 무작위로 여러 개 있을 때, 이 중에서 가장 작은 데이터를 선택해 맨 앞에 있는 데이터와 바꾸고, 그다음 작은 데이터를 선택해 앞에서 두 번째 데이터와 바꾸는 과정을 반복"
      ]
    },
    {
      "cell_type": "code",
      "metadata": {
        "colab": {
          "base_uri": "https://localhost:8080/"
        },
        "id": "i0qqhaEnkPmi",
        "outputId": "c514eb00-4c77-4103-ca63-afd691120602"
      },
      "source": [
        "array = [7, 5, 9, 0, 3, 1, 6, 2, 4, 8]\n",
        "\n",
        "for i in range(len(array)):\n",
        "  min_index = i\n",
        "  for j in range(i + 1, len(array)):\n",
        "    if array[min_index] > array[j]:\n",
        "      min_index = j\n",
        "\n",
        "  array[i], array[min_index] = array[min_index], array[i]\n",
        "\n",
        "print(array)"
      ],
      "execution_count": 1,
      "outputs": [
        {
          "output_type": "stream",
          "name": "stdout",
          "text": [
            "[0, 1, 2, 3, 4, 5, 6, 7, 8, 9]\n"
          ]
        }
      ]
    },
    {
      "cell_type": "markdown",
      "metadata": {
        "id": "tHhfGDypkzoR"
      },
      "source": [
        "- 시간 복잡도 계산\n",
        "- n + (n-1) + (n-2) + ... + 2 (가장 작은 원소를 찾기 위한 연산 수)\n",
        "- n * (n + 1) / 2 = (n^2 + n) / 2\n",
        "- 시간 복잡도는 **O(n^2)**"
      ]
    },
    {
      "cell_type": "markdown",
      "metadata": {
        "id": "xEwyrvKHlb_L"
      },
      "source": [
        "# 삽입 정렬"
      ]
    },
    {
      "cell_type": "markdown",
      "metadata": {
        "id": "UZwSpmXMwTRQ"
      },
      "source": [
        "- insetion sort\n",
        "- 데이터를 하나씩 확인하며, 각 데이터를 적절한 위치에 삽입\n",
        "- 필요할 땜만 위치를 바꾼다. 그래서 데이터가 거의 정렬 되어 있을 때 더욱 효과적\n",
        "- 특정한 데이터가 적절한 위치에 들어가기 이전에, 그 앞까지의 데이터는 이미 정렬되어 있다고 가정한다."
      ]
    },
    {
      "cell_type": "code",
      "metadata": {
        "colab": {
          "base_uri": "https://localhost:8080/"
        },
        "id": "BVF1uLl_wtzJ",
        "outputId": "f4124294-938e-4b35-a864-4801a4799e38"
      },
      "source": [
        "array = [7, 5, 9, 0, 3, 1, 6, 2, 4, 8]\n",
        "\n",
        "for i in range(1, len(array)):\n",
        "  for j in range(i, 0, -1):\n",
        "    if array[j] < array[j - 1]:\n",
        "      array[j], array[j - 1] = array[j - 1], array[j]\n",
        "    else:\n",
        "      break\n",
        "  \n",
        "print(array)"
      ],
      "execution_count": 2,
      "outputs": [
        {
          "output_type": "stream",
          "name": "stdout",
          "text": [
            "[0, 1, 2, 3, 4, 5, 6, 7, 8, 9]\n"
          ]
        }
      ]
    },
    {
      "cell_type": "markdown",
      "metadata": {
        "id": "WwSgpJDwxvs5"
      },
      "source": [
        "- 삽입 정렬의 시간 복잡도는 O(n^2) 이다.\n",
        "- 하지만 정렬이 거의 되어 있는 상황에서는 퀵 정렬 알고리즘보다 빠르다.\n",
        "- 최선의 경우 O(n) 까지 된다."
      ]
    },
    {
      "cell_type": "markdown",
      "metadata": {
        "id": "eNuu0HkoyIoU"
      },
      "source": [
        "# 퀵 정렬"
      ]
    },
    {
      "cell_type": "markdown",
      "metadata": {
        "id": "4GLUH_HFyKVO"
      },
      "source": [
        "- quick sort\n",
        "- 가장 많이 사용되는 알고리즘\n",
        "- 기준 데이터를 설정하고 그 기준보다 큰 데이터와 작은 데이터의 위치를 바꾼다.\n",
        "- 이와 비슷하게 많이 사용되는 알고리즘으로 병합 정렬이 있다.\n",
        "- pivot을 사용하여 기준 잡는다.\n",
        "- pivot을 설정하고 리스트를 분할하는 방법에 따라 여러 가지 방식으로 퀵 정렬을 구분한다.\n",
        "- 가장 대표적인 분할 방식이 호어 분할 (Hoare Partition)은 \"리스트에서 첫 번째 데이터를 Pivot으로 정한다\"는 규칙이 있다."
      ]
    },
    {
      "cell_type": "code",
      "metadata": {
        "colab": {
          "base_uri": "https://localhost:8080/"
        },
        "id": "tEXJ6pXXE397",
        "outputId": "4426d0be-94ce-4653-e68c-6fb4a352eeaf"
      },
      "source": [
        "array = [7, 5, 9, 0, 3, 1, 6, 2, 4, 8]\n",
        "\n",
        "def quick_sort(array, start, end):\n",
        "  # 원소가 1개인 경우 종료\n",
        "  if start >= end:\n",
        "    return\n",
        "  pivot = start\n",
        "  left = start + 1\n",
        "  right = end\n",
        "  while left <= right:\n",
        "    # pivot보다 큰 데이터를 찾을 때까지 반복\n",
        "    while left <= end and array[left] <= array[pivot]:\n",
        "      left += 1\n",
        "    # pivot보다 작은 데이터를 찾을 때까지 반복\n",
        "    while right > start and array[right] >= array[pivot]:\n",
        "      right -= 1\n",
        "    # 엇갈렸다면 작은 데이터와 pivot을 교체\n",
        "    if left > right:\n",
        "      array[right], array[pivot] = array[pivot], array[right]\n",
        "    else:\n",
        "      array[left], array[right] = array[right], array[left]\n",
        "  quick_sort(array, start, right - 1)\n",
        "  quick_sort(array, right + 1, end)\n",
        "\n",
        "quick_sort(array, 0, len(array) - 1)\n",
        "print(array)"
      ],
      "execution_count": 3,
      "outputs": [
        {
          "output_type": "stream",
          "name": "stdout",
          "text": [
            "[0, 1, 2, 3, 4, 5, 6, 7, 8, 9]\n"
          ]
        }
      ]
    },
    {
      "cell_type": "code",
      "metadata": {
        "colab": {
          "base_uri": "https://localhost:8080/"
        },
        "id": "yUzcHgoOGk6d",
        "outputId": "9935be19-317e-4fa0-9108-4679ad80f1be"
      },
      "source": [
        "# 파이썬의 장점을 살려 짧게 작성한 퀵 정렬 소스코드\n",
        "array = [7, 5, 9, 0, 3, 1, 6, 2, 4, 8]\n",
        "\n",
        "def quick_sort(array):\n",
        "  if len(array) <= 1:\n",
        "    return array\n",
        "  \n",
        "  pivot = array[0]\n",
        "  tail = array[1:]\n",
        "\n",
        "  left_side = [x for x in tail if x <= pivot]\n",
        "  right_side = [x for x in tail if x > pivot]\n",
        "\n",
        "  return quick_sort(left_side) + [pivot] + quick_sort(right_side)\n",
        "\n",
        "print(quick_sort(array))"
      ],
      "execution_count": 4,
      "outputs": [
        {
          "output_type": "stream",
          "name": "stdout",
          "text": [
            "[0, 1, 2, 3, 4, 5, 6, 7, 8, 9]\n"
          ]
        }
      ]
    },
    {
      "cell_type": "markdown",
      "metadata": {
        "id": "NFoq9v40HQYQ"
      },
      "source": [
        "- 퀵 정렬의 평균 시간 복잡도는 **O(NlogN)**\n",
        "- 최선의 경우 : 분할이 일어날 때마다 정확히 절반씩 분할될때 -> logN\n",
        "- 최악인 경우 : 이미 정렬되어 있는 경우 -> N^2\n"
      ]
    },
    {
      "cell_type": "markdown",
      "metadata": {
        "id": "jw3wV-IgHaQM"
      },
      "source": [
        "# 계수 정렬"
      ]
    },
    {
      "cell_type": "markdown",
      "metadata": {
        "id": "o6kbbhiCH--0"
      },
      "source": [
        "- Count Sort\n",
        "- 특정한 조건이 부합할 때만 사용할 수 있지만 매우 빠른 정렬 알고리즘\n",
        "- 데이터의 크기 범위가 제한되어 정수 형태로 표현할 수 있을 때만 사용 가능하다.\n",
        "- 일반적으로 가장 큰 데이터와 가장 작은 데이터의 차이가 1,000,000을 넘지 않을 때 효과적으로 사용 할 수 있다.\n",
        "- 모든 범위를 담을 수 있는 크기의 리스트를 선언해야 하기 때문에 위와 같은 제약이 생긴다.\n",
        "- 모든 범위를 담는 리스트를 만들어 정렬하고자 하는 배열의 값을 기록하고 하나하나 출력한다."
      ]
    },
    {
      "cell_type": "code",
      "metadata": {
        "colab": {
          "base_uri": "https://localhost:8080/"
        },
        "id": "2Jd26g3dSR_d",
        "outputId": "a982092e-584f-4d3c-baf0-7cec7c646a83"
      },
      "source": [
        "array = [7, 5, 9, 0, 3, 1, 6, 2, 9, 1, 4, 8, 0, 5, 2]\n",
        "count = [0] *(max(array) + 1)\n",
        "\n",
        "for i in range(len(array)):\n",
        "  count[array[i]] += 1\n",
        "\n",
        "for i in range(len(count)):\n",
        "  for j in range(count[i]):\n",
        "    print(i, end = ' ')"
      ],
      "execution_count": 6,
      "outputs": [
        {
          "output_type": "stream",
          "name": "stdout",
          "text": [
            "0 0 1 1 2 2 3 4 5 5 6 7 8 9 9 "
          ]
        }
      ]
    },
    {
      "cell_type": "markdown",
      "metadata": {
        "id": "vzKBHrPDSngD"
      },
      "source": [
        "- 시간 복잡도는 데이터의 개수 n, 최대값의 크기를 k라 하면 O(n + k)로 계산된다.\n",
        "- 저장 공간 낭비가 심하기 때문에 데이터의 크기가 한정되어 있고, 데이터의 크기가 많이 중복되어 있을수록 유리하다."
      ]
    },
    {
      "cell_type": "markdown",
      "metadata": {
        "id": "f-GY-fRUTGWX"
      },
      "source": [
        "# 파이썬의 정렬 라이브러리"
      ]
    },
    {
      "cell_type": "markdown",
      "metadata": {
        "id": "gF1_7vu0TYC6"
      },
      "source": [
        "- O(NlogN)을 보장한다."
      ]
    },
    {
      "cell_type": "code",
      "metadata": {
        "colab": {
          "base_uri": "https://localhost:8080/"
        },
        "id": "R70IkYGBTb5d",
        "outputId": "e0fccd7a-e5f3-4fd2-afe8-b0471356d7c3"
      },
      "source": [
        "array = [7, 5, 9, 0, 3, 1, 6, 2, 4, 8]\n",
        "\n",
        "result = sorted(array)\n",
        "print(result)"
      ],
      "execution_count": 7,
      "outputs": [
        {
          "output_type": "stream",
          "name": "stdout",
          "text": [
            "[0, 1, 2, 3, 4, 5, 6, 7, 8, 9]\n"
          ]
        }
      ]
    },
    {
      "cell_type": "code",
      "metadata": {
        "colab": {
          "base_uri": "https://localhost:8080/"
        },
        "id": "WKJuWEyaTjy2",
        "outputId": "de498ac5-e835-4eb6-b952-6305c300ac13"
      },
      "source": [
        "array = [7, 5, 9, 0, 3, 1, 6, 2, 4, 8]\n",
        "\n",
        "array.sort()\n",
        "print(array)"
      ],
      "execution_count": 8,
      "outputs": [
        {
          "output_type": "stream",
          "name": "stdout",
          "text": [
            "[0, 1, 2, 3, 4, 5, 6, 7, 8, 9]\n"
          ]
        }
      ]
    },
    {
      "cell_type": "code",
      "metadata": {
        "colab": {
          "base_uri": "https://localhost:8080/"
        },
        "id": "J3OgL2eATp7L",
        "outputId": "b534cc2c-8b20-46ef-c771-a4565bf1f9a4"
      },
      "source": [
        "# key를 매개변수로 사용할 수 있다.\n",
        "# key 값으로는 하나의 함수가 들어가야 하며, 이는 정렬 기준이 된다.\n",
        "array = [('바나나', 2), ('사과', 5), ('당근', 3)]\n",
        "\n",
        "def setting(data):\n",
        "  return data[1]\n",
        "\n",
        "result = sorted(array, key = setting)\n",
        "print(result)"
      ],
      "execution_count": 9,
      "outputs": [
        {
          "output_type": "stream",
          "name": "stdout",
          "text": [
            "[('바나나', 2), ('당근', 3), ('사과', 5)]\n"
          ]
        }
      ]
    },
    {
      "cell_type": "markdown",
      "metadata": {
        "id": "8MGMA-lrUEIR"
      },
      "source": [
        "# 결론\n",
        "- 문제에서 별도의 요구가 없다면 단순히 정렬해야 하는 상황에서는 기본 정렬 라이브러리르 사용!\n",
        "- 데이터의 범위가 한정되어 있으며 더 빠르게 동작해야 할 때는 계수 정렬을 사용하자!!"
      ]
    },
    {
      "cell_type": "markdown",
      "metadata": {
        "id": "0kJ9mA5oUcK7"
      },
      "source": [
        "- 정렬 라이브러리로 풀 수 있는 문제 : 단순히 정렬 기법을 알고 있는지 물어보는 문제\n",
        "- 정렬 알고리즘의 원리에 대해서 물어보는 문제 : 선택 정렬, 삽입 정렬, 퀵 정렬 등의 원리를 알고 있어야 풀 수 있는 문제\n",
        "- 더 빠른 정렬이 필요한 문제 : 퀵 정렬 기반의 정렬 기법으로는 풀 수 없으며 계수 정렬 등의 다른 정렬 알고리즘을 이용하거나 문제에서 기존에 알려진 알고리즘의 구조적인 개선을 거쳐야 풀 수 있다."
      ]
    },
    {
      "cell_type": "markdown",
      "metadata": {
        "id": "H11mkAkCU80c"
      },
      "source": [
        "# 연습 문제"
      ]
    },
    {
      "cell_type": "code",
      "metadata": {
        "colab": {
          "base_uri": "https://localhost:8080/"
        },
        "id": "jqt2rO_-VAT4",
        "outputId": "84e48e06-cffa-429a-ce42-9a7a4a8b2bb0"
      },
      "source": [
        "# 위에서 아래로\n",
        "n = int(input())\n",
        "data = []\n",
        "\n",
        "for _ in range(n):\n",
        "  data.append(int(input()))\n",
        "\n",
        "answer = sorted(data, reverse = True)\n",
        "\n",
        "for i in answer:\n",
        "  print(i, end = ' ')"
      ],
      "execution_count": 16,
      "outputs": [
        {
          "output_type": "stream",
          "name": "stdout",
          "text": [
            "3\n",
            "15\n",
            "27\n",
            "12\n",
            "27 15 12 "
          ]
        }
      ]
    },
    {
      "cell_type": "code",
      "metadata": {
        "colab": {
          "base_uri": "https://localhost:8080/"
        },
        "id": "seuCRmISVBZ3",
        "outputId": "6657a1e1-9e4e-4086-b9c8-253dc840758e"
      },
      "source": [
        "# 성적이 낮은 순서로 학생 출력하기\n",
        "n = int(input())\n",
        "data = []\n",
        "\n",
        "for _ in range(n):\n",
        "  data.append(list(input().split()))\n",
        "\n",
        "answer = sorted(data, key = lambda x : x[1])\n",
        "\n",
        "for student in answer:\n",
        "  print(student[0], end = ' ')"
      ],
      "execution_count": 20,
      "outputs": [
        {
          "output_type": "stream",
          "name": "stdout",
          "text": [
            "2\n",
            "홍길동 95\n",
            "이순신 77\n",
            "이순신 홍길동 "
          ]
        }
      ]
    },
    {
      "cell_type": "code",
      "metadata": {
        "colab": {
          "base_uri": "https://localhost:8080/"
        },
        "id": "XEJwYTeHVSP7",
        "outputId": "cb7907d4-e9cf-4131-8ae0-ebe334b0c422"
      },
      "source": [
        "# 두 배열의 원소 교체\n",
        "n, k = map(int, input().split())\n",
        "a = list(map(int, input().split()))\n",
        "b = list(map(int, input().split()))\n",
        "\n",
        "sorted_a = sorted(a)\n",
        "sorted_b = sorted(b, reverse = True)\n",
        "\n",
        "for i in range(k):\n",
        "  if sorted_a[i] < sorted_b[i]:\n",
        "    sorted_a[i], sorted_b[i] = sorted_b[i], sorted_a[i]\n",
        "  else:\n",
        "    break\n",
        "\n",
        "print(sum(sorted_a))"
      ],
      "execution_count": 22,
      "outputs": [
        {
          "output_type": "stream",
          "name": "stdout",
          "text": [
            "5 3\n",
            "1 2 5 4 3\n",
            "5 5 6 6 5\n",
            "26\n"
          ]
        }
      ]
    },
    {
      "cell_type": "code",
      "metadata": {
        "id": "wNd7UdbfXauJ"
      },
      "source": [
        ""
      ],
      "execution_count": null,
      "outputs": []
    }
  ]
}