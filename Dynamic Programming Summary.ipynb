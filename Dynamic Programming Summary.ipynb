{
  "nbformat": 4,
  "nbformat_minor": 0,
  "metadata": {
    "colab": {
      "name": "Summary.ipynb",
      "provenance": [],
      "collapsed_sections": [],
      "authorship_tag": "ABX9TyNLToh++Rc8JIYkmbPYdEG4",
      "include_colab_link": true
    },
    "kernelspec": {
      "name": "python3",
      "display_name": "Python 3"
    },
    "language_info": {
      "name": "python"
    }
  },
  "cells": [
    {
      "cell_type": "markdown",
      "metadata": {
        "id": "view-in-github",
        "colab_type": "text"
      },
      "source": [
        "<a href=\"https://colab.research.google.com/github/TaeGongKim/Coding-Test/blob/main/Dynamic%20Programming%20Summary.ipynb\" target=\"_parent\"><img src=\"https://colab.research.google.com/assets/colab-badge.svg\" alt=\"Open In Colab\"/></a>"
      ]
    },
    {
      "cell_type": "markdown",
      "metadata": {
        "id": "lSXvAvCxny5a"
      },
      "source": [
        "- 어떤 문제는 메모리 공간을 약간 더 사용하면 연산 속도를 비약적으로 증가시킬 수 있는 방법이 있다.\n"
      ]
    },
    {
      "cell_type": "code",
      "metadata": {
        "colab": {
          "base_uri": "https://localhost:8080/"
        },
        "id": "yocTLHkCoHm0",
        "outputId": "8e57e96b-4197-4a95-c69e-39116ae2163e"
      },
      "source": [
        "# 피보나치 함수 코드\n",
        "def fibo(x):\n",
        "  if x == 1 or x == 2:\n",
        "    return 1\n",
        "  return fibo(x - 1) + fibo(x - 2)\n",
        "\n",
        "print(fibo(4))"
      ],
      "execution_count": 1,
      "outputs": [
        {
          "output_type": "stream",
          "name": "stdout",
          "text": [
            "3\n"
          ]
        }
      ]
    },
    {
      "cell_type": "markdown",
      "metadata": {
        "id": "M91jRL7aoq4a"
      },
      "source": [
        "- 수학적 점화식을 재귀함수로 구현하면 위와 같이 간단하게 구현 할 수 있다.\n",
        "- 그러나 n 이 커지면 수행시간이 기하 급수적으로 증가한다. 왜냐하면 n이 커질수록 동일한 함수를 반복적으로 호출하여 시간이 길어진다.\n",
        "- 일반적으로 시간 복잡도는 O(2^n)이라 한다.\n",
        "- 즉 n = 30 일때, 10억 가량의 연산을 수행해야 한다."
      ]
    },
    {
      "cell_type": "markdown",
      "metadata": {
        "id": "HpYHqnhup7vW"
      },
      "source": [
        "- 다이나믹 프로그래밍을 사용하기 위한 조건\n",
        "  - 큰 문제를 작은 문제로 나눌 수 있다.\n",
        "  - 작은 문제에서 구한 정답은 그것을 포함하는 큰 문제에서도 동일하다.\n",
        "- 메모제이션 : 다이나믹 프로그램ㅇ을 구현하는 방법 중 한 종류로 한 번 구한 결과를 메모리 공간에 메모해두고 같은 식을 호출하면 메모한 결과를 그대로 가져오는 기법, 또는 값을 저장하는 방법이므로 캐싱(Caching)이라고도 한다.  Memoization"
      ]
    },
    {
      "cell_type": "code",
      "metadata": {
        "colab": {
          "base_uri": "https://localhost:8080/"
        },
        "id": "7PE2Em2dqo0t",
        "outputId": "eb7e94d5-5828-4ac6-ca50-4777b0291d42"
      },
      "source": [
        "d = [0] * 100\n",
        "\n",
        "def fibo(x):\n",
        "  if x == 1 or x == 2:\n",
        "    return 1\n",
        "  if d[x] != 0:\n",
        "    return d[x]\n",
        "  d[x] = fibo(x - 1) + fibo(x - 2)\n",
        "  return d[x]\n",
        "\n",
        "print(fibo(99))"
      ],
      "execution_count": 3,
      "outputs": [
        {
          "output_type": "stream",
          "name": "stdout",
          "text": [
            "218922995834555169026\n"
          ]
        }
      ]
    },
    {
      "cell_type": "markdown",
      "metadata": {
        "id": "zY_vWsWGq7rv"
      },
      "source": [
        "- 다이나믹 프로그래밍을 적용하였을 때 피보나치 수열 알고리즘의 시간 복잡도는 O(n) 이다."
      ]
    },
    {
      "cell_type": "markdown",
      "metadata": {
        "id": "DnwtBnRorb7G"
      },
      "source": [
        "- 탑다운 방식 (Top Down) : 재귀 함수를 이용하여 다이나믹 프로그래밍 소스코드를 작성하는 방법, 큰 문제를 해결하기 위해 작은 문제를 호출\n",
        "- 보텀업 방식 (Bottom Up) : 단순히 반복문을 이용하여 소스코드를 작성하는 경우, 작은 문제부터 차근차근 답을 도출"
      ]
    },
    {
      "cell_type": "code",
      "metadata": {
        "colab": {
          "base_uri": "https://localhost:8080/"
        },
        "id": "zNxhRK42sFL8",
        "outputId": "e068a859-3012-4a01-abf3-0c133c1b2e0f"
      },
      "source": [
        "# Bottom Up\n",
        "d = [0] * 100\n",
        "\n",
        "d[1] = 1\n",
        "d[2] = 1\n",
        "n = 99\n",
        "\n",
        "for i in range(3, n + 1):\n",
        "  d[i] = d[i - 1] + d[i - 2]\n",
        "\n",
        "print(d[n])"
      ],
      "execution_count": 5,
      "outputs": [
        {
          "output_type": "stream",
          "name": "stdout",
          "text": [
            "218922995834555169026\n"
          ]
        }
      ]
    },
    {
      "cell_type": "markdown",
      "metadata": {
        "id": "h99nHEqKsS4Z"
      },
      "source": [
        "- 가능하다면 Bottom Up 방식으로 구현하는 것을 권장한다."
      ]
    },
    {
      "cell_type": "markdown",
      "metadata": {
        "id": "e1ebUK1msyVm"
      },
      "source": [
        "- 만약 Top Down 방식으로 구현하면서 'recursion depth' 와 관련하여 오류가 발생한다면 sys 라이브러리의 setrecursionlimit() 함수를 호출하여 제한을 완화하자"
      ]
    },
    {
      "cell_type": "markdown",
      "metadata": {
        "id": "vAKmoSrEtPAb"
      },
      "source": [
        "## 1로 만들기"
      ]
    },
    {
      "cell_type": "code",
      "metadata": {
        "colab": {
          "base_uri": "https://localhost:8080/"
        },
        "id": "SAgVRowutRnk",
        "outputId": "9ab30c55-bcb4-429f-cc33-8bec95e7c434"
      },
      "source": [
        "x = int(input())\n",
        "d = [0] * 30001\n",
        "\n",
        "d[1] = 0\n",
        "d[2] = 1\n",
        "d[3] = 1\n",
        "d[4] = 2\n",
        "d[5] = 1\n",
        "\n",
        "for i in range(6, x + 1):\n",
        "  ans = []\n",
        "  if i % 5 == 0:\n",
        "    ans.append(d[i // 5] + 1)\n",
        "  if i % 3 == 0:\n",
        "    ans.append(d[i // 3] + 1)\n",
        "  if i % 2 == 0:\n",
        "    ans.append(d[i // 2] + 1)\n",
        "  ans.append(d[i - 1] + 1)\n",
        "  d[i] = min(ans)\n",
        "\n",
        "\n",
        "print(d[x])"
      ],
      "execution_count": 8,
      "outputs": [
        {
          "output_type": "stream",
          "name": "stdout",
          "text": [
            "26\n",
            "3\n"
          ]
        }
      ]
    },
    {
      "cell_type": "code",
      "metadata": {
        "colab": {
          "base_uri": "https://localhost:8080/"
        },
        "id": "DYlNxcJQvi01",
        "outputId": "e014195e-f1e2-4725-b460-3503c0ef305e"
      },
      "source": [
        "# 해설\n",
        "x = int(input())\n",
        "d = [0] * 30001\n",
        "\n",
        "for i in range(2, x + 1):\n",
        "  d[i] = d[i - 1] + 1\n",
        "  if i % 2 == 0:\n",
        "    d[i] = min(d[i], d[i // 2] + 1)\n",
        "  if i % 3 == 0:\n",
        "    d[i] = min(d[i], d[i // 3] + 1)\n",
        "  if i % 5 == 0:\n",
        "    d[i] = min(d[i], d[i // 5] + 1)\n",
        "\n",
        "print(d[x])"
      ],
      "execution_count": 10,
      "outputs": [
        {
          "output_type": "stream",
          "name": "stdout",
          "text": [
            "26\n",
            "3\n"
          ]
        }
      ]
    },
    {
      "cell_type": "markdown",
      "metadata": {
        "id": "FjaBDxnowU4B"
      },
      "source": [
        "## 개미 전사"
      ]
    },
    {
      "cell_type": "code",
      "metadata": {
        "colab": {
          "base_uri": "https://localhost:8080/"
        },
        "id": "o1TIoxKawYSp",
        "outputId": "3ffd5c87-9cbc-4f2d-9f62-b3cd3341b2eb"
      },
      "source": [
        "n = int(input())\n",
        "data = list(map(int, input().split()))\n",
        "\n",
        "d = [0] * 100\n",
        "\n",
        "d[0] = data[0]\n",
        "d[1] = max(data[0], data[1])\n",
        "for i in range(2, n):\n",
        "  d[i] = max(d[i - 1], d[i - 2] + data[i])\n",
        "\n",
        "print(d[n - 1])"
      ],
      "execution_count": 11,
      "outputs": [
        {
          "output_type": "stream",
          "name": "stdout",
          "text": [
            "4\n",
            "1 3 1 5\n",
            "8\n"
          ]
        }
      ]
    },
    {
      "cell_type": "markdown",
      "metadata": {
        "id": "Uh8WfGX2xbk7"
      },
      "source": [
        "## 바닥 공사"
      ]
    },
    {
      "cell_type": "code",
      "metadata": {
        "colab": {
          "base_uri": "https://localhost:8080/"
        },
        "id": "Pg24sHByyJM8",
        "outputId": "b405fe42-e4b9-4659-df9f-7fa819e7a34c"
      },
      "source": [
        "n = int(input())\n",
        "d = [0] * 1001\n",
        "\n",
        "d[1] = 1\n",
        "d[2] = 3\n",
        "\n",
        "for i in range(3, n + 1):\n",
        "  d[i] = (d[i - 1] + 2 * d[i - 2]) % 796796\n",
        "\n",
        "print(d[n])"
      ],
      "execution_count": 12,
      "outputs": [
        {
          "output_type": "stream",
          "name": "stdout",
          "text": [
            "3\n",
            "5\n"
          ]
        }
      ]
    },
    {
      "cell_type": "markdown",
      "metadata": {
        "id": "EojPxTTp0Oth"
      },
      "source": [
        "## 효율적인 화폐 구성"
      ]
    },
    {
      "cell_type": "code",
      "metadata": {
        "colab": {
          "base_uri": "https://localhost:8080/"
        },
        "id": "hOTAzeyZ0XWE",
        "outputId": "62ed3e37-54be-4d00-bcc0-904ecba6497a"
      },
      "source": [
        "n,m = map(int, input().split())\n",
        "coins = []\n",
        "\n",
        "for i in range(n):\n",
        "  coins.append(int(input()))\n",
        "\n",
        "d = [0] * 10001\n",
        "\n",
        "for coin in coins:\n",
        "  d[coin] = 1\n",
        "\n",
        "for i in range(min(coins) + 1, m + 1):\n",
        "  if d[i] > 0:\n",
        "    continue\n",
        "    \n",
        "  ans = []\n",
        "  for coin in coins:\n",
        "    if i - coin > 0 and d[i - coin] > 0:\n",
        "      ans.append(d[i - coin] + 1)\n",
        "  \n",
        "  if ans:\n",
        "    d[i] = min(ans)\n",
        "  else:\n",
        "    d[i] = -1\n",
        "\n",
        "print(d[m])"
      ],
      "execution_count": 35,
      "outputs": [
        {
          "output_type": "stream",
          "name": "stdout",
          "text": [
            "2 15\n",
            "2\n",
            "3\n",
            "5\n"
          ]
        }
      ]
    },
    {
      "cell_type": "code",
      "metadata": {
        "colab": {
          "base_uri": "https://localhost:8080/"
        },
        "id": "lMGrEPCW2BTJ",
        "outputId": "8f0c3b52-22d4-4006-e2ea-27cd8bd97bf5"
      },
      "source": [
        "# 해설\n",
        "n, m = map(int, input().split())\n",
        "\n",
        "array = []\n",
        "for i in range(n):\n",
        "  array.append(int(input()))\n",
        "\n",
        "d = [10001] * (m + 1)\n",
        "\n",
        "d[0] = 0\n",
        "for i in range(n):\n",
        "  for j in range(array[i], m + 1):\n",
        "    if d[j - array[i]] != 10001:\n",
        "      d[j] = min(d[j], d[j - array[i]] + 1)\n",
        "\n",
        "if d[m] == 10001:\n",
        "  print(-1)\n",
        "else:\n",
        "  print(d[m])"
      ],
      "execution_count": 37,
      "outputs": [
        {
          "output_type": "stream",
          "name": "stdout",
          "text": [
            "2 15\n",
            "2\n",
            "3\n",
            "5\n"
          ]
        }
      ]
    },
    {
      "cell_type": "code",
      "metadata": {
        "id": "c5UXgOTp2bG9"
      },
      "source": [
        ""
      ],
      "execution_count": null,
      "outputs": []
    }
  ]
}